{
  "cells": [
    {
      "cell_type": "markdown",
      "id": "654d989b-ca3b-4815-94f8-fe640ebbe9d2",
      "metadata": {
        "editable": true,
        "tags": [],
        "id": "654d989b-ca3b-4815-94f8-fe640ebbe9d2"
      },
      "source": [
        "[![Binder](https://mybinder.org/badge_logo.svg)](https://mybinder.org/v2/gh/stefmolin/pandas-workshop/main?urlpath=lab/tree/notebooks/1-getting_started_with_pandas.ipynb) [![View slides in browser](https://img.shields.io/badge/view-slides-orange?logo=reveal.js&logoColor=white)](https://stefaniemolin.com/pandas-workshop/#/section-1)\n",
        "\n",
        "---\n",
        "\n"
      ]
    },
    {
      "cell_type": "code",
      "source": [
        "!git clone https://github.com/stefmolin/pandas-workshop.git\n",
        "!jupyter nbconvert --to notebook --execute path_to_notebook.ipynb\n",
        "!pip install -r requirements.txt\n"
      ],
      "metadata": {
        "collapsed": true,
        "id": "83161d4HeeXK",
        "outputId": "779fdd29-52d3-48b5-a4a3-ab03a24459cd",
        "colab": {
          "base_uri": "https://localhost:8080/"
        }
      },
      "id": "83161d4HeeXK",
      "execution_count": 8,
      "outputs": [
        {
          "output_type": "stream",
          "name": "stdout",
          "text": [
            "Cloning into 'pandas-workshop'...\n",
            "remote: Enumerating objects: 1862, done.\u001b[K\n",
            "remote: Counting objects: 100% (668/668), done.\u001b[K\n",
            "remote: Compressing objects: 100% (219/219), done.\u001b[K\n",
            "remote: Total 1862 (delta 504), reused 552 (delta 446), pack-reused 1194 (from 1)\u001b[K\n",
            "Receiving objects: 100% (1862/1862), 27.51 MiB | 11.84 MiB/s, done.\n",
            "Resolving deltas: 100% (1292/1292), done.\n",
            "[NbConvertApp] WARNING | pattern 'path_to_notebook.ipynb' matched no files\n",
            "This application is used to convert notebook files (*.ipynb)\n",
            "        to various other formats.\n",
            "\n",
            "        WARNING: THE COMMANDLINE INTERFACE MAY CHANGE IN FUTURE RELEASES.\n",
            "\n",
            "Options\n",
            "=======\n",
            "The options below are convenience aliases to configurable class-options,\n",
            "as listed in the \"Equivalent to\" description-line of the aliases.\n",
            "To see all configurable class-options for some <cmd>, use:\n",
            "    <cmd> --help-all\n",
            "\n",
            "--debug\n",
            "    set log level to logging.DEBUG (maximize logging output)\n",
            "    Equivalent to: [--Application.log_level=10]\n",
            "--show-config\n",
            "    Show the application's configuration (human-readable format)\n",
            "    Equivalent to: [--Application.show_config=True]\n",
            "--show-config-json\n",
            "    Show the application's configuration (json format)\n",
            "    Equivalent to: [--Application.show_config_json=True]\n",
            "--generate-config\n",
            "    generate default config file\n",
            "    Equivalent to: [--JupyterApp.generate_config=True]\n",
            "-y\n",
            "    Answer yes to any questions instead of prompting.\n",
            "    Equivalent to: [--JupyterApp.answer_yes=True]\n",
            "--execute\n",
            "    Execute the notebook prior to export.\n",
            "    Equivalent to: [--ExecutePreprocessor.enabled=True]\n",
            "--allow-errors\n",
            "    Continue notebook execution even if one of the cells throws an error and include the error message in the cell output (the default behaviour is to abort conversion). This flag is only relevant if '--execute' was specified, too.\n",
            "    Equivalent to: [--ExecutePreprocessor.allow_errors=True]\n",
            "--stdin\n",
            "    read a single notebook file from stdin. Write the resulting notebook with default basename 'notebook.*'\n",
            "    Equivalent to: [--NbConvertApp.from_stdin=True]\n",
            "--stdout\n",
            "    Write notebook output to stdout instead of files.\n",
            "    Equivalent to: [--NbConvertApp.writer_class=StdoutWriter]\n",
            "--inplace\n",
            "    Run nbconvert in place, overwriting the existing notebook (only\n",
            "            relevant when converting to notebook format)\n",
            "    Equivalent to: [--NbConvertApp.use_output_suffix=False --NbConvertApp.export_format=notebook --FilesWriter.build_directory=]\n",
            "--clear-output\n",
            "    Clear output of current file and save in place,\n",
            "            overwriting the existing notebook.\n",
            "    Equivalent to: [--NbConvertApp.use_output_suffix=False --NbConvertApp.export_format=notebook --FilesWriter.build_directory= --ClearOutputPreprocessor.enabled=True]\n",
            "--coalesce-streams\n",
            "    Coalesce consecutive stdout and stderr outputs into one stream (within each cell).\n",
            "    Equivalent to: [--NbConvertApp.use_output_suffix=False --NbConvertApp.export_format=notebook --FilesWriter.build_directory= --CoalesceStreamsPreprocessor.enabled=True]\n",
            "--no-prompt\n",
            "    Exclude input and output prompts from converted document.\n",
            "    Equivalent to: [--TemplateExporter.exclude_input_prompt=True --TemplateExporter.exclude_output_prompt=True]\n",
            "--no-input\n",
            "    Exclude input cells and output prompts from converted document.\n",
            "            This mode is ideal for generating code-free reports.\n",
            "    Equivalent to: [--TemplateExporter.exclude_output_prompt=True --TemplateExporter.exclude_input=True --TemplateExporter.exclude_input_prompt=True]\n",
            "--allow-chromium-download\n",
            "    Whether to allow downloading chromium if no suitable version is found on the system.\n",
            "    Equivalent to: [--WebPDFExporter.allow_chromium_download=True]\n",
            "--disable-chromium-sandbox\n",
            "    Disable chromium security sandbox when converting to PDF..\n",
            "    Equivalent to: [--WebPDFExporter.disable_sandbox=True]\n",
            "--show-input\n",
            "    Shows code input. This flag is only useful for dejavu users.\n",
            "    Equivalent to: [--TemplateExporter.exclude_input=False]\n",
            "--embed-images\n",
            "    Embed the images as base64 dataurls in the output. This flag is only useful for the HTML/WebPDF/Slides exports.\n",
            "    Equivalent to: [--HTMLExporter.embed_images=True]\n",
            "--sanitize-html\n",
            "    Whether the HTML in Markdown cells and cell outputs should be sanitized..\n",
            "    Equivalent to: [--HTMLExporter.sanitize_html=True]\n",
            "--log-level=<Enum>\n",
            "    Set the log level by value or name.\n",
            "    Choices: any of [0, 10, 20, 30, 40, 50, 'DEBUG', 'INFO', 'WARN', 'ERROR', 'CRITICAL']\n",
            "    Default: 30\n",
            "    Equivalent to: [--Application.log_level]\n",
            "--config=<Unicode>\n",
            "    Full path of a config file.\n",
            "    Default: ''\n",
            "    Equivalent to: [--JupyterApp.config_file]\n",
            "--to=<Unicode>\n",
            "    The export format to be used, either one of the built-in formats\n",
            "            ['asciidoc', 'custom', 'html', 'latex', 'markdown', 'notebook', 'pdf', 'python', 'qtpdf', 'qtpng', 'rst', 'script', 'slides', 'webpdf']\n",
            "            or a dotted object name that represents the import path for an\n",
            "            ``Exporter`` class\n",
            "    Default: ''\n",
            "    Equivalent to: [--NbConvertApp.export_format]\n",
            "--template=<Unicode>\n",
            "    Name of the template to use\n",
            "    Default: ''\n",
            "    Equivalent to: [--TemplateExporter.template_name]\n",
            "--template-file=<Unicode>\n",
            "    Name of the template file to use\n",
            "    Default: None\n",
            "    Equivalent to: [--TemplateExporter.template_file]\n",
            "--theme=<Unicode>\n",
            "    Template specific theme(e.g. the name of a JupyterLab CSS theme distributed\n",
            "    as prebuilt extension for the lab template)\n",
            "    Default: 'light'\n",
            "    Equivalent to: [--HTMLExporter.theme]\n",
            "--sanitize_html=<Bool>\n",
            "    Whether the HTML in Markdown cells and cell outputs should be sanitized.This\n",
            "    should be set to True by nbviewer or similar tools.\n",
            "    Default: False\n",
            "    Equivalent to: [--HTMLExporter.sanitize_html]\n",
            "--writer=<DottedObjectName>\n",
            "    Writer class used to write the\n",
            "                                        results of the conversion\n",
            "    Default: 'FilesWriter'\n",
            "    Equivalent to: [--NbConvertApp.writer_class]\n",
            "--post=<DottedOrNone>\n",
            "    PostProcessor class used to write the\n",
            "                                        results of the conversion\n",
            "    Default: ''\n",
            "    Equivalent to: [--NbConvertApp.postprocessor_class]\n",
            "--output=<Unicode>\n",
            "    Overwrite base name use for output files.\n",
            "                Supports pattern replacements '{notebook_name}'.\n",
            "    Default: '{notebook_name}'\n",
            "    Equivalent to: [--NbConvertApp.output_base]\n",
            "--output-dir=<Unicode>\n",
            "    Directory to write output(s) to. Defaults\n",
            "                                  to output to the directory of each notebook. To recover\n",
            "                                  previous default behaviour (outputting to the current\n",
            "                                  working directory) use . as the flag value.\n",
            "    Default: ''\n",
            "    Equivalent to: [--FilesWriter.build_directory]\n",
            "--reveal-prefix=<Unicode>\n",
            "    The URL prefix for reveal.js (version 3.x).\n",
            "            This defaults to the reveal CDN, but can be any url pointing to a copy\n",
            "            of reveal.js.\n",
            "            For speaker notes to work, this must be a relative path to a local\n",
            "            copy of reveal.js: e.g., \"reveal.js\".\n",
            "            If a relative path is given, it must be a subdirectory of the\n",
            "            current directory (from which the server is run).\n",
            "            See the usage documentation\n",
            "            (https://nbconvert.readthedocs.io/en/latest/usage.html#reveal-js-html-slideshow)\n",
            "            for more details.\n",
            "    Default: ''\n",
            "    Equivalent to: [--SlidesExporter.reveal_url_prefix]\n",
            "--nbformat=<Enum>\n",
            "    The nbformat version to write.\n",
            "            Use this to downgrade notebooks.\n",
            "    Choices: any of [1, 2, 3, 4]\n",
            "    Default: 4\n",
            "    Equivalent to: [--NotebookExporter.nbformat_version]\n",
            "\n",
            "Examples\n",
            "--------\n",
            "\n",
            "    The simplest way to use nbconvert is\n",
            "\n",
            "            > jupyter nbconvert mynotebook.ipynb --to html\n",
            "\n",
            "            Options include ['asciidoc', 'custom', 'html', 'latex', 'markdown', 'notebook', 'pdf', 'python', 'qtpdf', 'qtpng', 'rst', 'script', 'slides', 'webpdf'].\n",
            "\n",
            "            > jupyter nbconvert --to latex mynotebook.ipynb\n",
            "\n",
            "            Both HTML and LaTeX support multiple output templates. LaTeX includes\n",
            "            'base', 'article' and 'report'.  HTML includes 'basic', 'lab' and\n",
            "            'classic'. You can specify the flavor of the format used.\n",
            "\n",
            "            > jupyter nbconvert --to html --template lab mynotebook.ipynb\n",
            "\n",
            "            You can also pipe the output to stdout, rather than a file\n",
            "\n",
            "            > jupyter nbconvert mynotebook.ipynb --stdout\n",
            "\n",
            "            PDF is generated via latex\n",
            "\n",
            "            > jupyter nbconvert mynotebook.ipynb --to pdf\n",
            "\n",
            "            You can get (and serve) a Reveal.js-powered slideshow\n",
            "\n",
            "            > jupyter nbconvert myslides.ipynb --to slides --post serve\n",
            "\n",
            "            Multiple notebooks can be given at the command line in a couple of\n",
            "            different ways:\n",
            "\n",
            "            > jupyter nbconvert notebook*.ipynb\n",
            "            > jupyter nbconvert notebook1.ipynb notebook2.ipynb\n",
            "\n",
            "            or you can specify the notebooks list in a config file, containing::\n",
            "\n",
            "                c.NbConvertApp.notebooks = [\"my_notebook.ipynb\"]\n",
            "\n",
            "            > jupyter nbconvert --config mycfg.py\n",
            "\n",
            "To see all available configurables, use `--help-all`.\n",
            "\n",
            "Requirement already satisfied: jupyterlab>=4.2.3 in /usr/local/lib/python3.10/dist-packages (from -r requirements.txt (line 1)) (4.3.1)\n",
            "Requirement already satisfied: matplotlib==3.8.4 in /usr/local/lib/python3.10/dist-packages (from -r requirements.txt (line 2)) (3.8.4)\n",
            "Requirement already satisfied: numpy==2.0.0 in /usr/local/lib/python3.10/dist-packages (from -r requirements.txt (line 3)) (2.0.0)\n",
            "Requirement already satisfied: pandas==2.2.2 in /usr/local/lib/python3.10/dist-packages (from -r requirements.txt (line 4)) (2.2.2)\n",
            "Requirement already satisfied: requests in /usr/local/lib/python3.10/dist-packages (from -r requirements.txt (line 5)) (2.32.3)\n",
            "Requirement already satisfied: seaborn==0.13.2 in /usr/local/lib/python3.10/dist-packages (from -r requirements.txt (line 6)) (0.13.2)\n",
            "Requirement already satisfied: contourpy>=1.0.1 in /usr/local/lib/python3.10/dist-packages (from matplotlib==3.8.4->-r requirements.txt (line 2)) (1.3.1)\n",
            "Requirement already satisfied: cycler>=0.10 in /usr/local/lib/python3.10/dist-packages (from matplotlib==3.8.4->-r requirements.txt (line 2)) (0.12.1)\n",
            "Requirement already satisfied: fonttools>=4.22.0 in /usr/local/lib/python3.10/dist-packages (from matplotlib==3.8.4->-r requirements.txt (line 2)) (4.55.0)\n",
            "Requirement already satisfied: kiwisolver>=1.3.1 in /usr/local/lib/python3.10/dist-packages (from matplotlib==3.8.4->-r requirements.txt (line 2)) (1.4.7)\n",
            "Requirement already satisfied: packaging>=20.0 in /usr/local/lib/python3.10/dist-packages (from matplotlib==3.8.4->-r requirements.txt (line 2)) (24.2)\n",
            "Requirement already satisfied: pillow>=8 in /usr/local/lib/python3.10/dist-packages (from matplotlib==3.8.4->-r requirements.txt (line 2)) (11.0.0)\n",
            "Requirement already satisfied: pyparsing>=2.3.1 in /usr/local/lib/python3.10/dist-packages (from matplotlib==3.8.4->-r requirements.txt (line 2)) (3.2.0)\n",
            "Requirement already satisfied: python-dateutil>=2.7 in /usr/local/lib/python3.10/dist-packages (from matplotlib==3.8.4->-r requirements.txt (line 2)) (2.8.2)\n",
            "Requirement already satisfied: pytz>=2020.1 in /usr/local/lib/python3.10/dist-packages (from pandas==2.2.2->-r requirements.txt (line 4)) (2024.2)\n",
            "Requirement already satisfied: tzdata>=2022.7 in /usr/local/lib/python3.10/dist-packages (from pandas==2.2.2->-r requirements.txt (line 4)) (2024.2)\n",
            "Requirement already satisfied: async-lru>=1.0.0 in /usr/local/lib/python3.10/dist-packages (from jupyterlab>=4.2.3->-r requirements.txt (line 1)) (2.0.4)\n",
            "Requirement already satisfied: httpx>=0.25.0 in /usr/local/lib/python3.10/dist-packages (from jupyterlab>=4.2.3->-r requirements.txt (line 1)) (0.27.2)\n",
            "Requirement already satisfied: ipykernel>=6.5.0 in /usr/local/lib/python3.10/dist-packages (from jupyterlab>=4.2.3->-r requirements.txt (line 1)) (6.29.5)\n",
            "Requirement already satisfied: jinja2>=3.0.3 in /usr/local/lib/python3.10/dist-packages (from jupyterlab>=4.2.3->-r requirements.txt (line 1)) (3.1.4)\n",
            "Requirement already satisfied: jupyter-core in /usr/local/lib/python3.10/dist-packages (from jupyterlab>=4.2.3->-r requirements.txt (line 1)) (5.7.2)\n",
            "Requirement already satisfied: jupyter-lsp>=2.0.0 in /usr/local/lib/python3.10/dist-packages (from jupyterlab>=4.2.3->-r requirements.txt (line 1)) (2.2.5)\n",
            "Requirement already satisfied: jupyter-server<3,>=2.4.0 in /usr/local/lib/python3.10/dist-packages (from jupyterlab>=4.2.3->-r requirements.txt (line 1)) (2.14.2)\n",
            "Requirement already satisfied: jupyterlab-server<3,>=2.27.1 in /usr/local/lib/python3.10/dist-packages (from jupyterlab>=4.2.3->-r requirements.txt (line 1)) (2.27.3)\n",
            "Requirement already satisfied: notebook-shim>=0.2 in /usr/local/lib/python3.10/dist-packages (from jupyterlab>=4.2.3->-r requirements.txt (line 1)) (0.2.4)\n",
            "Requirement already satisfied: setuptools>=40.1.0 in /usr/local/lib/python3.10/dist-packages (from jupyterlab>=4.2.3->-r requirements.txt (line 1)) (75.1.0)\n",
            "Requirement already satisfied: tomli>=1.2.2 in /usr/local/lib/python3.10/dist-packages (from jupyterlab>=4.2.3->-r requirements.txt (line 1)) (2.1.0)\n",
            "Requirement already satisfied: tornado>=6.2.0 in /usr/local/lib/python3.10/dist-packages (from jupyterlab>=4.2.3->-r requirements.txt (line 1)) (6.3.3)\n",
            "Requirement already satisfied: traitlets in /usr/local/lib/python3.10/dist-packages (from jupyterlab>=4.2.3->-r requirements.txt (line 1)) (5.7.1)\n",
            "Requirement already satisfied: charset-normalizer<4,>=2 in /usr/local/lib/python3.10/dist-packages (from requests->-r requirements.txt (line 5)) (3.4.0)\n",
            "Requirement already satisfied: idna<4,>=2.5 in /usr/local/lib/python3.10/dist-packages (from requests->-r requirements.txt (line 5)) (3.10)\n",
            "Requirement already satisfied: urllib3<3,>=1.21.1 in /usr/local/lib/python3.10/dist-packages (from requests->-r requirements.txt (line 5)) (2.2.3)\n",
            "Requirement already satisfied: certifi>=2017.4.17 in /usr/local/lib/python3.10/dist-packages (from requests->-r requirements.txt (line 5)) (2024.8.30)\n",
            "Requirement already satisfied: typing-extensions>=4.0.0 in /usr/local/lib/python3.10/dist-packages (from async-lru>=1.0.0->jupyterlab>=4.2.3->-r requirements.txt (line 1)) (4.12.2)\n",
            "Requirement already satisfied: anyio in /usr/local/lib/python3.10/dist-packages (from httpx>=0.25.0->jupyterlab>=4.2.3->-r requirements.txt (line 1)) (3.7.1)\n",
            "Requirement already satisfied: httpcore==1.* in /usr/local/lib/python3.10/dist-packages (from httpx>=0.25.0->jupyterlab>=4.2.3->-r requirements.txt (line 1)) (1.0.7)\n",
            "Requirement already satisfied: sniffio in /usr/local/lib/python3.10/dist-packages (from httpx>=0.25.0->jupyterlab>=4.2.3->-r requirements.txt (line 1)) (1.3.1)\n",
            "Requirement already satisfied: h11<0.15,>=0.13 in /usr/local/lib/python3.10/dist-packages (from httpcore==1.*->httpx>=0.25.0->jupyterlab>=4.2.3->-r requirements.txt (line 1)) (0.14.0)\n",
            "Requirement already satisfied: comm>=0.1.1 in /usr/local/lib/python3.10/dist-packages (from ipykernel>=6.5.0->jupyterlab>=4.2.3->-r requirements.txt (line 1)) (0.2.2)\n",
            "Requirement already satisfied: debugpy>=1.6.5 in /usr/local/lib/python3.10/dist-packages (from ipykernel>=6.5.0->jupyterlab>=4.2.3->-r requirements.txt (line 1)) (1.8.0)\n",
            "Requirement already satisfied: ipython>=7.23.1 in /usr/local/lib/python3.10/dist-packages (from ipykernel>=6.5.0->jupyterlab>=4.2.3->-r requirements.txt (line 1)) (7.34.0)\n",
            "Requirement already satisfied: jupyter-client>=6.1.12 in /usr/local/lib/python3.10/dist-packages (from ipykernel>=6.5.0->jupyterlab>=4.2.3->-r requirements.txt (line 1)) (8.6.3)\n",
            "Requirement already satisfied: matplotlib-inline>=0.1 in /usr/local/lib/python3.10/dist-packages (from ipykernel>=6.5.0->jupyterlab>=4.2.3->-r requirements.txt (line 1)) (0.1.7)\n",
            "Requirement already satisfied: nest-asyncio in /usr/local/lib/python3.10/dist-packages (from ipykernel>=6.5.0->jupyterlab>=4.2.3->-r requirements.txt (line 1)) (1.6.0)\n",
            "Requirement already satisfied: psutil in /usr/local/lib/python3.10/dist-packages (from ipykernel>=6.5.0->jupyterlab>=4.2.3->-r requirements.txt (line 1)) (5.9.5)\n",
            "Requirement already satisfied: pyzmq>=24 in /usr/local/lib/python3.10/dist-packages (from ipykernel>=6.5.0->jupyterlab>=4.2.3->-r requirements.txt (line 1)) (24.0.1)\n",
            "Requirement already satisfied: MarkupSafe>=2.0 in /usr/local/lib/python3.10/dist-packages (from jinja2>=3.0.3->jupyterlab>=4.2.3->-r requirements.txt (line 1)) (3.0.2)\n",
            "Requirement already satisfied: platformdirs>=2.5 in /usr/local/lib/python3.10/dist-packages (from jupyter-core->jupyterlab>=4.2.3->-r requirements.txt (line 1)) (4.3.6)\n",
            "Requirement already satisfied: argon2-cffi>=21.1 in /usr/local/lib/python3.10/dist-packages (from jupyter-server<3,>=2.4.0->jupyterlab>=4.2.3->-r requirements.txt (line 1)) (23.1.0)\n",
            "Requirement already satisfied: jupyter-events>=0.9.0 in /usr/local/lib/python3.10/dist-packages (from jupyter-server<3,>=2.4.0->jupyterlab>=4.2.3->-r requirements.txt (line 1)) (0.10.0)\n",
            "Requirement already satisfied: jupyter-server-terminals>=0.4.4 in /usr/local/lib/python3.10/dist-packages (from jupyter-server<3,>=2.4.0->jupyterlab>=4.2.3->-r requirements.txt (line 1)) (0.5.3)\n",
            "Requirement already satisfied: nbconvert>=6.4.4 in /usr/local/lib/python3.10/dist-packages (from jupyter-server<3,>=2.4.0->jupyterlab>=4.2.3->-r requirements.txt (line 1)) (7.16.4)\n",
            "Requirement already satisfied: nbformat>=5.3.0 in /usr/local/lib/python3.10/dist-packages (from jupyter-server<3,>=2.4.0->jupyterlab>=4.2.3->-r requirements.txt (line 1)) (5.10.4)\n",
            "Requirement already satisfied: overrides>=5.0 in /usr/local/lib/python3.10/dist-packages (from jupyter-server<3,>=2.4.0->jupyterlab>=4.2.3->-r requirements.txt (line 1)) (7.7.0)\n",
            "Requirement already satisfied: prometheus-client>=0.9 in /usr/local/lib/python3.10/dist-packages (from jupyter-server<3,>=2.4.0->jupyterlab>=4.2.3->-r requirements.txt (line 1)) (0.21.0)\n",
            "Requirement already satisfied: send2trash>=1.8.2 in /usr/local/lib/python3.10/dist-packages (from jupyter-server<3,>=2.4.0->jupyterlab>=4.2.3->-r requirements.txt (line 1)) (1.8.3)\n",
            "Requirement already satisfied: terminado>=0.8.3 in /usr/local/lib/python3.10/dist-packages (from jupyter-server<3,>=2.4.0->jupyterlab>=4.2.3->-r requirements.txt (line 1)) (0.18.1)\n",
            "Requirement already satisfied: websocket-client>=1.7 in /usr/local/lib/python3.10/dist-packages (from jupyter-server<3,>=2.4.0->jupyterlab>=4.2.3->-r requirements.txt (line 1)) (1.8.0)\n",
            "Requirement already satisfied: babel>=2.10 in /usr/local/lib/python3.10/dist-packages (from jupyterlab-server<3,>=2.27.1->jupyterlab>=4.2.3->-r requirements.txt (line 1)) (2.16.0)\n",
            "Requirement already satisfied: json5>=0.9.0 in /usr/local/lib/python3.10/dist-packages (from jupyterlab-server<3,>=2.27.1->jupyterlab>=4.2.3->-r requirements.txt (line 1)) (0.9.28)\n",
            "Requirement already satisfied: jsonschema>=4.18.0 in /usr/local/lib/python3.10/dist-packages (from jupyterlab-server<3,>=2.27.1->jupyterlab>=4.2.3->-r requirements.txt (line 1)) (4.23.0)\n",
            "Requirement already satisfied: six>=1.5 in /usr/local/lib/python3.10/dist-packages (from python-dateutil>=2.7->matplotlib==3.8.4->-r requirements.txt (line 2)) (1.16.0)\n",
            "Requirement already satisfied: exceptiongroup in /usr/local/lib/python3.10/dist-packages (from anyio->httpx>=0.25.0->jupyterlab>=4.2.3->-r requirements.txt (line 1)) (1.2.2)\n",
            "Requirement already satisfied: argon2-cffi-bindings in /usr/local/lib/python3.10/dist-packages (from argon2-cffi>=21.1->jupyter-server<3,>=2.4.0->jupyterlab>=4.2.3->-r requirements.txt (line 1)) (21.2.0)\n",
            "Requirement already satisfied: jedi>=0.16 in /usr/local/lib/python3.10/dist-packages (from ipython>=7.23.1->ipykernel>=6.5.0->jupyterlab>=4.2.3->-r requirements.txt (line 1)) (0.19.2)\n",
            "Requirement already satisfied: decorator in /usr/local/lib/python3.10/dist-packages (from ipython>=7.23.1->ipykernel>=6.5.0->jupyterlab>=4.2.3->-r requirements.txt (line 1)) (4.4.2)\n",
            "Requirement already satisfied: pickleshare in /usr/local/lib/python3.10/dist-packages (from ipython>=7.23.1->ipykernel>=6.5.0->jupyterlab>=4.2.3->-r requirements.txt (line 1)) (0.7.5)\n",
            "Requirement already satisfied: prompt-toolkit!=3.0.0,!=3.0.1,<3.1.0,>=2.0.0 in /usr/local/lib/python3.10/dist-packages (from ipython>=7.23.1->ipykernel>=6.5.0->jupyterlab>=4.2.3->-r requirements.txt (line 1)) (3.0.48)\n",
            "Requirement already satisfied: pygments in /usr/local/lib/python3.10/dist-packages (from ipython>=7.23.1->ipykernel>=6.5.0->jupyterlab>=4.2.3->-r requirements.txt (line 1)) (2.18.0)\n",
            "Requirement already satisfied: backcall in /usr/local/lib/python3.10/dist-packages (from ipython>=7.23.1->ipykernel>=6.5.0->jupyterlab>=4.2.3->-r requirements.txt (line 1)) (0.2.0)\n",
            "Requirement already satisfied: pexpect>4.3 in /usr/local/lib/python3.10/dist-packages (from ipython>=7.23.1->ipykernel>=6.5.0->jupyterlab>=4.2.3->-r requirements.txt (line 1)) (4.9.0)\n",
            "Requirement already satisfied: attrs>=22.2.0 in /usr/local/lib/python3.10/dist-packages (from jsonschema>=4.18.0->jupyterlab-server<3,>=2.27.1->jupyterlab>=4.2.3->-r requirements.txt (line 1)) (24.2.0)\n",
            "Requirement already satisfied: jsonschema-specifications>=2023.03.6 in /usr/local/lib/python3.10/dist-packages (from jsonschema>=4.18.0->jupyterlab-server<3,>=2.27.1->jupyterlab>=4.2.3->-r requirements.txt (line 1)) (2024.10.1)\n",
            "Requirement already satisfied: referencing>=0.28.4 in /usr/local/lib/python3.10/dist-packages (from jsonschema>=4.18.0->jupyterlab-server<3,>=2.27.1->jupyterlab>=4.2.3->-r requirements.txt (line 1)) (0.35.1)\n",
            "Requirement already satisfied: rpds-py>=0.7.1 in /usr/local/lib/python3.10/dist-packages (from jsonschema>=4.18.0->jupyterlab-server<3,>=2.27.1->jupyterlab>=4.2.3->-r requirements.txt (line 1)) (0.21.0)\n",
            "Requirement already satisfied: python-json-logger>=2.0.4 in /usr/local/lib/python3.10/dist-packages (from jupyter-events>=0.9.0->jupyter-server<3,>=2.4.0->jupyterlab>=4.2.3->-r requirements.txt (line 1)) (2.0.7)\n",
            "Requirement already satisfied: pyyaml>=5.3 in /usr/local/lib/python3.10/dist-packages (from jupyter-events>=0.9.0->jupyter-server<3,>=2.4.0->jupyterlab>=4.2.3->-r requirements.txt (line 1)) (6.0.2)\n",
            "Requirement already satisfied: rfc3339-validator in /usr/local/lib/python3.10/dist-packages (from jupyter-events>=0.9.0->jupyter-server<3,>=2.4.0->jupyterlab>=4.2.3->-r requirements.txt (line 1)) (0.1.4)\n",
            "Requirement already satisfied: rfc3986-validator>=0.1.1 in /usr/local/lib/python3.10/dist-packages (from jupyter-events>=0.9.0->jupyter-server<3,>=2.4.0->jupyterlab>=4.2.3->-r requirements.txt (line 1)) (0.1.1)\n",
            "Requirement already satisfied: beautifulsoup4 in /usr/local/lib/python3.10/dist-packages (from nbconvert>=6.4.4->jupyter-server<3,>=2.4.0->jupyterlab>=4.2.3->-r requirements.txt (line 1)) (4.12.3)\n",
            "Requirement already satisfied: bleach!=5.0.0 in /usr/local/lib/python3.10/dist-packages (from nbconvert>=6.4.4->jupyter-server<3,>=2.4.0->jupyterlab>=4.2.3->-r requirements.txt (line 1)) (6.2.0)\n",
            "Requirement already satisfied: defusedxml in /usr/local/lib/python3.10/dist-packages (from nbconvert>=6.4.4->jupyter-server<3,>=2.4.0->jupyterlab>=4.2.3->-r requirements.txt (line 1)) (0.7.1)\n",
            "Requirement already satisfied: jupyterlab-pygments in /usr/local/lib/python3.10/dist-packages (from nbconvert>=6.4.4->jupyter-server<3,>=2.4.0->jupyterlab>=4.2.3->-r requirements.txt (line 1)) (0.3.0)\n",
            "Requirement already satisfied: mistune<4,>=2.0.3 in /usr/local/lib/python3.10/dist-packages (from nbconvert>=6.4.4->jupyter-server<3,>=2.4.0->jupyterlab>=4.2.3->-r requirements.txt (line 1)) (3.0.2)\n",
            "Requirement already satisfied: nbclient>=0.5.0 in /usr/local/lib/python3.10/dist-packages (from nbconvert>=6.4.4->jupyter-server<3,>=2.4.0->jupyterlab>=4.2.3->-r requirements.txt (line 1)) (0.10.0)\n",
            "Requirement already satisfied: pandocfilters>=1.4.1 in /usr/local/lib/python3.10/dist-packages (from nbconvert>=6.4.4->jupyter-server<3,>=2.4.0->jupyterlab>=4.2.3->-r requirements.txt (line 1)) (1.5.1)\n",
            "Requirement already satisfied: tinycss2 in /usr/local/lib/python3.10/dist-packages (from nbconvert>=6.4.4->jupyter-server<3,>=2.4.0->jupyterlab>=4.2.3->-r requirements.txt (line 1)) (1.4.0)\n",
            "Requirement already satisfied: fastjsonschema>=2.15 in /usr/local/lib/python3.10/dist-packages (from nbformat>=5.3.0->jupyter-server<3,>=2.4.0->jupyterlab>=4.2.3->-r requirements.txt (line 1)) (2.20.0)\n",
            "Requirement already satisfied: ptyprocess in /usr/local/lib/python3.10/dist-packages (from terminado>=0.8.3->jupyter-server<3,>=2.4.0->jupyterlab>=4.2.3->-r requirements.txt (line 1)) (0.7.0)\n",
            "Requirement already satisfied: webencodings in /usr/local/lib/python3.10/dist-packages (from bleach!=5.0.0->nbconvert>=6.4.4->jupyter-server<3,>=2.4.0->jupyterlab>=4.2.3->-r requirements.txt (line 1)) (0.5.1)\n",
            "Requirement already satisfied: parso<0.9.0,>=0.8.4 in /usr/local/lib/python3.10/dist-packages (from jedi>=0.16->ipython>=7.23.1->ipykernel>=6.5.0->jupyterlab>=4.2.3->-r requirements.txt (line 1)) (0.8.4)\n",
            "Requirement already satisfied: fqdn in /usr/local/lib/python3.10/dist-packages (from jsonschema[format-nongpl]>=4.18.0->jupyter-events>=0.9.0->jupyter-server<3,>=2.4.0->jupyterlab>=4.2.3->-r requirements.txt (line 1)) (1.5.1)\n",
            "Requirement already satisfied: isoduration in /usr/local/lib/python3.10/dist-packages (from jsonschema[format-nongpl]>=4.18.0->jupyter-events>=0.9.0->jupyter-server<3,>=2.4.0->jupyterlab>=4.2.3->-r requirements.txt (line 1)) (20.11.0)\n",
            "Requirement already satisfied: jsonpointer>1.13 in /usr/local/lib/python3.10/dist-packages (from jsonschema[format-nongpl]>=4.18.0->jupyter-events>=0.9.0->jupyter-server<3,>=2.4.0->jupyterlab>=4.2.3->-r requirements.txt (line 1)) (3.0.0)\n",
            "Requirement already satisfied: uri-template in /usr/local/lib/python3.10/dist-packages (from jsonschema[format-nongpl]>=4.18.0->jupyter-events>=0.9.0->jupyter-server<3,>=2.4.0->jupyterlab>=4.2.3->-r requirements.txt (line 1)) (1.3.0)\n",
            "Requirement already satisfied: webcolors>=24.6.0 in /usr/local/lib/python3.10/dist-packages (from jsonschema[format-nongpl]>=4.18.0->jupyter-events>=0.9.0->jupyter-server<3,>=2.4.0->jupyterlab>=4.2.3->-r requirements.txt (line 1)) (24.11.1)\n",
            "Requirement already satisfied: wcwidth in /usr/local/lib/python3.10/dist-packages (from prompt-toolkit!=3.0.0,!=3.0.1,<3.1.0,>=2.0.0->ipython>=7.23.1->ipykernel>=6.5.0->jupyterlab>=4.2.3->-r requirements.txt (line 1)) (0.2.13)\n",
            "Requirement already satisfied: cffi>=1.0.1 in /usr/local/lib/python3.10/dist-packages (from argon2-cffi-bindings->argon2-cffi>=21.1->jupyter-server<3,>=2.4.0->jupyterlab>=4.2.3->-r requirements.txt (line 1)) (1.17.1)\n",
            "Requirement already satisfied: soupsieve>1.2 in /usr/local/lib/python3.10/dist-packages (from beautifulsoup4->nbconvert>=6.4.4->jupyter-server<3,>=2.4.0->jupyterlab>=4.2.3->-r requirements.txt (line 1)) (2.6)\n",
            "Requirement already satisfied: pycparser in /usr/local/lib/python3.10/dist-packages (from cffi>=1.0.1->argon2-cffi-bindings->argon2-cffi>=21.1->jupyter-server<3,>=2.4.0->jupyterlab>=4.2.3->-r requirements.txt (line 1)) (2.22)\n",
            "Requirement already satisfied: arrow>=0.15.0 in /usr/local/lib/python3.10/dist-packages (from isoduration->jsonschema[format-nongpl]>=4.18.0->jupyter-events>=0.9.0->jupyter-server<3,>=2.4.0->jupyterlab>=4.2.3->-r requirements.txt (line 1)) (1.3.0)\n",
            "Requirement already satisfied: types-python-dateutil>=2.8.10 in /usr/local/lib/python3.10/dist-packages (from arrow>=0.15.0->isoduration->jsonschema[format-nongpl]>=4.18.0->jupyter-events>=0.9.0->jupyter-server<3,>=2.4.0->jupyterlab>=4.2.3->-r requirements.txt (line 1)) (2.9.0.20241003)\n"
          ]
        }
      ]
    },
    {
      "cell_type": "markdown",
      "id": "4eedaf6c-296c-442c-92ec-60b8a4595781",
      "metadata": {
        "tags": [],
        "id": "4eedaf6c-296c-442c-92ec-60b8a4595781"
      },
      "source": [
        "# Section 1: Getting Started With Pandas\n",
        "\n",
        "We will begin by introducing the `Series`, `DataFrame`, and `Index` classes, which are the basic building blocks of the pandas library, and showing how to work with them. By the end of this section, you will be able to create DataFrames and perform operations on them to inspect and filter the data."
      ]
    },
    {
      "cell_type": "markdown",
      "id": "002b1f0a-a96e-424b-993a-8126452d31a1",
      "metadata": {
        "editable": true,
        "tags": [],
        "id": "002b1f0a-a96e-424b-993a-8126452d31a1"
      },
      "source": [
        "## Anatomy of a DataFrame\n",
        "\n",
        "A **DataFrame** is composed of one or more **Series**. The names of the **Series** form the column names, and the row labels form the **Index**."
      ]
    },
    {
      "cell_type": "code",
      "execution_count": 9,
      "id": "c8c4e00d-8bbb-47ee-9c84-dba7b6c19636",
      "metadata": {
        "editable": true,
        "tags": [],
        "id": "c8c4e00d-8bbb-47ee-9c84-dba7b6c19636",
        "outputId": "b2a49af5-5a62-448e-c4a2-d15a8be4d0a3",
        "colab": {
          "base_uri": "https://localhost:8080/",
          "height": 206
        }
      },
      "outputs": [
        {
          "output_type": "execute_result",
          "data": {
            "text/plain": [
              "       name   id nametype     recclass  mass (g)  fall  \\\n",
              "0    Aachen    1    Valid           L5        21  Fell   \n",
              "1    Aarhus    2    Valid           H6       720  Fell   \n",
              "2      Abee    6    Valid          EH4    107000  Fell   \n",
              "3  Acapulco   10    Valid  Acapulcoite      1914  Fell   \n",
              "4   Achiras  370    Valid           L6       780  Fell   \n",
              "\n",
              "                     year    reclat    reclong           GeoLocation  \n",
              "0  01/01/1880 12:00:00 AM  50.77500    6.08333     (50.775, 6.08333)  \n",
              "1  01/01/1951 12:00:00 AM  56.18333   10.23333  (56.18333, 10.23333)  \n",
              "2  01/01/1952 12:00:00 AM  54.21667 -113.00000    (54.21667, -113.0)  \n",
              "3  01/01/1976 12:00:00 AM  16.88333  -99.90000     (16.88333, -99.9)  \n",
              "4  01/01/1902 12:00:00 AM -33.16667  -64.95000   (-33.16667, -64.95)  "
            ],
            "text/html": [
              "\n",
              "  <div id=\"df-fdba0954-659a-40f0-9a31-5bfeea627cfb\" class=\"colab-df-container\">\n",
              "    <div>\n",
              "<style scoped>\n",
              "    .dataframe tbody tr th:only-of-type {\n",
              "        vertical-align: middle;\n",
              "    }\n",
              "\n",
              "    .dataframe tbody tr th {\n",
              "        vertical-align: top;\n",
              "    }\n",
              "\n",
              "    .dataframe thead th {\n",
              "        text-align: right;\n",
              "    }\n",
              "</style>\n",
              "<table border=\"1\" class=\"dataframe\">\n",
              "  <thead>\n",
              "    <tr style=\"text-align: right;\">\n",
              "      <th></th>\n",
              "      <th>name</th>\n",
              "      <th>id</th>\n",
              "      <th>nametype</th>\n",
              "      <th>recclass</th>\n",
              "      <th>mass (g)</th>\n",
              "      <th>fall</th>\n",
              "      <th>year</th>\n",
              "      <th>reclat</th>\n",
              "      <th>reclong</th>\n",
              "      <th>GeoLocation</th>\n",
              "    </tr>\n",
              "  </thead>\n",
              "  <tbody>\n",
              "    <tr>\n",
              "      <th>0</th>\n",
              "      <td>Aachen</td>\n",
              "      <td>1</td>\n",
              "      <td>Valid</td>\n",
              "      <td>L5</td>\n",
              "      <td>21</td>\n",
              "      <td>Fell</td>\n",
              "      <td>01/01/1880 12:00:00 AM</td>\n",
              "      <td>50.77500</td>\n",
              "      <td>6.08333</td>\n",
              "      <td>(50.775, 6.08333)</td>\n",
              "    </tr>\n",
              "    <tr>\n",
              "      <th>1</th>\n",
              "      <td>Aarhus</td>\n",
              "      <td>2</td>\n",
              "      <td>Valid</td>\n",
              "      <td>H6</td>\n",
              "      <td>720</td>\n",
              "      <td>Fell</td>\n",
              "      <td>01/01/1951 12:00:00 AM</td>\n",
              "      <td>56.18333</td>\n",
              "      <td>10.23333</td>\n",
              "      <td>(56.18333, 10.23333)</td>\n",
              "    </tr>\n",
              "    <tr>\n",
              "      <th>2</th>\n",
              "      <td>Abee</td>\n",
              "      <td>6</td>\n",
              "      <td>Valid</td>\n",
              "      <td>EH4</td>\n",
              "      <td>107000</td>\n",
              "      <td>Fell</td>\n",
              "      <td>01/01/1952 12:00:00 AM</td>\n",
              "      <td>54.21667</td>\n",
              "      <td>-113.00000</td>\n",
              "      <td>(54.21667, -113.0)</td>\n",
              "    </tr>\n",
              "    <tr>\n",
              "      <th>3</th>\n",
              "      <td>Acapulco</td>\n",
              "      <td>10</td>\n",
              "      <td>Valid</td>\n",
              "      <td>Acapulcoite</td>\n",
              "      <td>1914</td>\n",
              "      <td>Fell</td>\n",
              "      <td>01/01/1976 12:00:00 AM</td>\n",
              "      <td>16.88333</td>\n",
              "      <td>-99.90000</td>\n",
              "      <td>(16.88333, -99.9)</td>\n",
              "    </tr>\n",
              "    <tr>\n",
              "      <th>4</th>\n",
              "      <td>Achiras</td>\n",
              "      <td>370</td>\n",
              "      <td>Valid</td>\n",
              "      <td>L6</td>\n",
              "      <td>780</td>\n",
              "      <td>Fell</td>\n",
              "      <td>01/01/1902 12:00:00 AM</td>\n",
              "      <td>-33.16667</td>\n",
              "      <td>-64.95000</td>\n",
              "      <td>(-33.16667, -64.95)</td>\n",
              "    </tr>\n",
              "  </tbody>\n",
              "</table>\n",
              "</div>\n",
              "    <div class=\"colab-df-buttons\">\n",
              "\n",
              "  <div class=\"colab-df-container\">\n",
              "    <button class=\"colab-df-convert\" onclick=\"convertToInteractive('df-fdba0954-659a-40f0-9a31-5bfeea627cfb')\"\n",
              "            title=\"Convert this dataframe to an interactive table.\"\n",
              "            style=\"display:none;\">\n",
              "\n",
              "  <svg xmlns=\"http://www.w3.org/2000/svg\" height=\"24px\" viewBox=\"0 -960 960 960\">\n",
              "    <path d=\"M120-120v-720h720v720H120Zm60-500h600v-160H180v160Zm220 220h160v-160H400v160Zm0 220h160v-160H400v160ZM180-400h160v-160H180v160Zm440 0h160v-160H620v160ZM180-180h160v-160H180v160Zm440 0h160v-160H620v160Z\"/>\n",
              "  </svg>\n",
              "    </button>\n",
              "\n",
              "  <style>\n",
              "    .colab-df-container {\n",
              "      display:flex;\n",
              "      gap: 12px;\n",
              "    }\n",
              "\n",
              "    .colab-df-convert {\n",
              "      background-color: #E8F0FE;\n",
              "      border: none;\n",
              "      border-radius: 50%;\n",
              "      cursor: pointer;\n",
              "      display: none;\n",
              "      fill: #1967D2;\n",
              "      height: 32px;\n",
              "      padding: 0 0 0 0;\n",
              "      width: 32px;\n",
              "    }\n",
              "\n",
              "    .colab-df-convert:hover {\n",
              "      background-color: #E2EBFA;\n",
              "      box-shadow: 0px 1px 2px rgba(60, 64, 67, 0.3), 0px 1px 3px 1px rgba(60, 64, 67, 0.15);\n",
              "      fill: #174EA6;\n",
              "    }\n",
              "\n",
              "    .colab-df-buttons div {\n",
              "      margin-bottom: 4px;\n",
              "    }\n",
              "\n",
              "    [theme=dark] .colab-df-convert {\n",
              "      background-color: #3B4455;\n",
              "      fill: #D2E3FC;\n",
              "    }\n",
              "\n",
              "    [theme=dark] .colab-df-convert:hover {\n",
              "      background-color: #434B5C;\n",
              "      box-shadow: 0px 1px 3px 1px rgba(0, 0, 0, 0.15);\n",
              "      filter: drop-shadow(0px 1px 2px rgba(0, 0, 0, 0.3));\n",
              "      fill: #FFFFFF;\n",
              "    }\n",
              "  </style>\n",
              "\n",
              "    <script>\n",
              "      const buttonEl =\n",
              "        document.querySelector('#df-fdba0954-659a-40f0-9a31-5bfeea627cfb button.colab-df-convert');\n",
              "      buttonEl.style.display =\n",
              "        google.colab.kernel.accessAllowed ? 'block' : 'none';\n",
              "\n",
              "      async function convertToInteractive(key) {\n",
              "        const element = document.querySelector('#df-fdba0954-659a-40f0-9a31-5bfeea627cfb');\n",
              "        const dataTable =\n",
              "          await google.colab.kernel.invokeFunction('convertToInteractive',\n",
              "                                                    [key], {});\n",
              "        if (!dataTable) return;\n",
              "\n",
              "        const docLinkHtml = 'Like what you see? Visit the ' +\n",
              "          '<a target=\"_blank\" href=https://colab.research.google.com/notebooks/data_table.ipynb>data table notebook</a>'\n",
              "          + ' to learn more about interactive tables.';\n",
              "        element.innerHTML = '';\n",
              "        dataTable['output_type'] = 'display_data';\n",
              "        await google.colab.output.renderOutput(dataTable, element);\n",
              "        const docLink = document.createElement('div');\n",
              "        docLink.innerHTML = docLinkHtml;\n",
              "        element.appendChild(docLink);\n",
              "      }\n",
              "    </script>\n",
              "  </div>\n",
              "\n",
              "\n",
              "<div id=\"df-71ece9d2-128f-48ab-a8aa-456109973ccc\">\n",
              "  <button class=\"colab-df-quickchart\" onclick=\"quickchart('df-71ece9d2-128f-48ab-a8aa-456109973ccc')\"\n",
              "            title=\"Suggest charts\"\n",
              "            style=\"display:none;\">\n",
              "\n",
              "<svg xmlns=\"http://www.w3.org/2000/svg\" height=\"24px\"viewBox=\"0 0 24 24\"\n",
              "     width=\"24px\">\n",
              "    <g>\n",
              "        <path d=\"M19 3H5c-1.1 0-2 .9-2 2v14c0 1.1.9 2 2 2h14c1.1 0 2-.9 2-2V5c0-1.1-.9-2-2-2zM9 17H7v-7h2v7zm4 0h-2V7h2v10zm4 0h-2v-4h2v4z\"/>\n",
              "    </g>\n",
              "</svg>\n",
              "  </button>\n",
              "\n",
              "<style>\n",
              "  .colab-df-quickchart {\n",
              "      --bg-color: #E8F0FE;\n",
              "      --fill-color: #1967D2;\n",
              "      --hover-bg-color: #E2EBFA;\n",
              "      --hover-fill-color: #174EA6;\n",
              "      --disabled-fill-color: #AAA;\n",
              "      --disabled-bg-color: #DDD;\n",
              "  }\n",
              "\n",
              "  [theme=dark] .colab-df-quickchart {\n",
              "      --bg-color: #3B4455;\n",
              "      --fill-color: #D2E3FC;\n",
              "      --hover-bg-color: #434B5C;\n",
              "      --hover-fill-color: #FFFFFF;\n",
              "      --disabled-bg-color: #3B4455;\n",
              "      --disabled-fill-color: #666;\n",
              "  }\n",
              "\n",
              "  .colab-df-quickchart {\n",
              "    background-color: var(--bg-color);\n",
              "    border: none;\n",
              "    border-radius: 50%;\n",
              "    cursor: pointer;\n",
              "    display: none;\n",
              "    fill: var(--fill-color);\n",
              "    height: 32px;\n",
              "    padding: 0;\n",
              "    width: 32px;\n",
              "  }\n",
              "\n",
              "  .colab-df-quickchart:hover {\n",
              "    background-color: var(--hover-bg-color);\n",
              "    box-shadow: 0 1px 2px rgba(60, 64, 67, 0.3), 0 1px 3px 1px rgba(60, 64, 67, 0.15);\n",
              "    fill: var(--button-hover-fill-color);\n",
              "  }\n",
              "\n",
              "  .colab-df-quickchart-complete:disabled,\n",
              "  .colab-df-quickchart-complete:disabled:hover {\n",
              "    background-color: var(--disabled-bg-color);\n",
              "    fill: var(--disabled-fill-color);\n",
              "    box-shadow: none;\n",
              "  }\n",
              "\n",
              "  .colab-df-spinner {\n",
              "    border: 2px solid var(--fill-color);\n",
              "    border-color: transparent;\n",
              "    border-bottom-color: var(--fill-color);\n",
              "    animation:\n",
              "      spin 1s steps(1) infinite;\n",
              "  }\n",
              "\n",
              "  @keyframes spin {\n",
              "    0% {\n",
              "      border-color: transparent;\n",
              "      border-bottom-color: var(--fill-color);\n",
              "      border-left-color: var(--fill-color);\n",
              "    }\n",
              "    20% {\n",
              "      border-color: transparent;\n",
              "      border-left-color: var(--fill-color);\n",
              "      border-top-color: var(--fill-color);\n",
              "    }\n",
              "    30% {\n",
              "      border-color: transparent;\n",
              "      border-left-color: var(--fill-color);\n",
              "      border-top-color: var(--fill-color);\n",
              "      border-right-color: var(--fill-color);\n",
              "    }\n",
              "    40% {\n",
              "      border-color: transparent;\n",
              "      border-right-color: var(--fill-color);\n",
              "      border-top-color: var(--fill-color);\n",
              "    }\n",
              "    60% {\n",
              "      border-color: transparent;\n",
              "      border-right-color: var(--fill-color);\n",
              "    }\n",
              "    80% {\n",
              "      border-color: transparent;\n",
              "      border-right-color: var(--fill-color);\n",
              "      border-bottom-color: var(--fill-color);\n",
              "    }\n",
              "    90% {\n",
              "      border-color: transparent;\n",
              "      border-bottom-color: var(--fill-color);\n",
              "    }\n",
              "  }\n",
              "</style>\n",
              "\n",
              "  <script>\n",
              "    async function quickchart(key) {\n",
              "      const quickchartButtonEl =\n",
              "        document.querySelector('#' + key + ' button');\n",
              "      quickchartButtonEl.disabled = true;  // To prevent multiple clicks.\n",
              "      quickchartButtonEl.classList.add('colab-df-spinner');\n",
              "      try {\n",
              "        const charts = await google.colab.kernel.invokeFunction(\n",
              "            'suggestCharts', [key], {});\n",
              "      } catch (error) {\n",
              "        console.error('Error during call to suggestCharts:', error);\n",
              "      }\n",
              "      quickchartButtonEl.classList.remove('colab-df-spinner');\n",
              "      quickchartButtonEl.classList.add('colab-df-quickchart-complete');\n",
              "    }\n",
              "    (() => {\n",
              "      let quickchartButtonEl =\n",
              "        document.querySelector('#df-71ece9d2-128f-48ab-a8aa-456109973ccc button');\n",
              "      quickchartButtonEl.style.display =\n",
              "        google.colab.kernel.accessAllowed ? 'block' : 'none';\n",
              "    })();\n",
              "  </script>\n",
              "</div>\n",
              "\n",
              "  <div id=\"id_d6c85583-c1b4-4e65-bad8-b8bd2271bbcd\">\n",
              "    <style>\n",
              "      .colab-df-generate {\n",
              "        background-color: #E8F0FE;\n",
              "        border: none;\n",
              "        border-radius: 50%;\n",
              "        cursor: pointer;\n",
              "        display: none;\n",
              "        fill: #1967D2;\n",
              "        height: 32px;\n",
              "        padding: 0 0 0 0;\n",
              "        width: 32px;\n",
              "      }\n",
              "\n",
              "      .colab-df-generate:hover {\n",
              "        background-color: #E2EBFA;\n",
              "        box-shadow: 0px 1px 2px rgba(60, 64, 67, 0.3), 0px 1px 3px 1px rgba(60, 64, 67, 0.15);\n",
              "        fill: #174EA6;\n",
              "      }\n",
              "\n",
              "      [theme=dark] .colab-df-generate {\n",
              "        background-color: #3B4455;\n",
              "        fill: #D2E3FC;\n",
              "      }\n",
              "\n",
              "      [theme=dark] .colab-df-generate:hover {\n",
              "        background-color: #434B5C;\n",
              "        box-shadow: 0px 1px 3px 1px rgba(0, 0, 0, 0.15);\n",
              "        filter: drop-shadow(0px 1px 2px rgba(0, 0, 0, 0.3));\n",
              "        fill: #FFFFFF;\n",
              "      }\n",
              "    </style>\n",
              "    <button class=\"colab-df-generate\" onclick=\"generateWithVariable('meteorites')\"\n",
              "            title=\"Generate code using this dataframe.\"\n",
              "            style=\"display:none;\">\n",
              "\n",
              "  <svg xmlns=\"http://www.w3.org/2000/svg\" height=\"24px\"viewBox=\"0 0 24 24\"\n",
              "       width=\"24px\">\n",
              "    <path d=\"M7,19H8.4L18.45,9,17,7.55,7,17.6ZM5,21V16.75L18.45,3.32a2,2,0,0,1,2.83,0l1.4,1.43a1.91,1.91,0,0,1,.58,1.4,1.91,1.91,0,0,1-.58,1.4L9.25,21ZM18.45,9,17,7.55Zm-12,3A5.31,5.31,0,0,0,4.9,8.1,5.31,5.31,0,0,0,1,6.5,5.31,5.31,0,0,0,4.9,4.9,5.31,5.31,0,0,0,6.5,1,5.31,5.31,0,0,0,8.1,4.9,5.31,5.31,0,0,0,12,6.5,5.46,5.46,0,0,0,6.5,12Z\"/>\n",
              "  </svg>\n",
              "    </button>\n",
              "    <script>\n",
              "      (() => {\n",
              "      const buttonEl =\n",
              "        document.querySelector('#id_d6c85583-c1b4-4e65-bad8-b8bd2271bbcd button.colab-df-generate');\n",
              "      buttonEl.style.display =\n",
              "        google.colab.kernel.accessAllowed ? 'block' : 'none';\n",
              "\n",
              "      buttonEl.onclick = () => {\n",
              "        google.colab.notebook.generateWithVariable('meteorites');\n",
              "      }\n",
              "      })();\n",
              "    </script>\n",
              "  </div>\n",
              "\n",
              "    </div>\n",
              "  </div>\n"
            ],
            "application/vnd.google.colaboratory.intrinsic+json": {
              "type": "dataframe",
              "variable_name": "meteorites",
              "summary": "{\n  \"name\": \"meteorites\",\n  \"rows\": 5,\n  \"fields\": [\n    {\n      \"column\": \"name\",\n      \"properties\": {\n        \"dtype\": \"string\",\n        \"num_unique_values\": 5,\n        \"samples\": [\n          \"Aarhus\",\n          \"Achiras\",\n          \"Abee\"\n        ],\n        \"semantic_type\": \"\",\n        \"description\": \"\"\n      }\n    },\n    {\n      \"column\": \"id\",\n      \"properties\": {\n        \"dtype\": \"number\",\n        \"std\": 163,\n        \"min\": 1,\n        \"max\": 370,\n        \"num_unique_values\": 5,\n        \"samples\": [\n          2,\n          370,\n          6\n        ],\n        \"semantic_type\": \"\",\n        \"description\": \"\"\n      }\n    },\n    {\n      \"column\": \"nametype\",\n      \"properties\": {\n        \"dtype\": \"category\",\n        \"num_unique_values\": 1,\n        \"samples\": [\n          \"Valid\"\n        ],\n        \"semantic_type\": \"\",\n        \"description\": \"\"\n      }\n    },\n    {\n      \"column\": \"recclass\",\n      \"properties\": {\n        \"dtype\": \"string\",\n        \"num_unique_values\": 5,\n        \"samples\": [\n          \"H6\"\n        ],\n        \"semantic_type\": \"\",\n        \"description\": \"\"\n      }\n    },\n    {\n      \"column\": \"mass (g)\",\n      \"properties\": {\n        \"dtype\": \"number\",\n        \"std\": 47472,\n        \"min\": 21,\n        \"max\": 107000,\n        \"num_unique_values\": 5,\n        \"samples\": [\n          720\n        ],\n        \"semantic_type\": \"\",\n        \"description\": \"\"\n      }\n    },\n    {\n      \"column\": \"fall\",\n      \"properties\": {\n        \"dtype\": \"category\",\n        \"num_unique_values\": 1,\n        \"samples\": [\n          \"Fell\"\n        ],\n        \"semantic_type\": \"\",\n        \"description\": \"\"\n      }\n    },\n    {\n      \"column\": \"year\",\n      \"properties\": {\n        \"dtype\": \"object\",\n        \"num_unique_values\": 5,\n        \"samples\": [\n          \"01/01/1951 12:00:00 AM\"\n        ],\n        \"semantic_type\": \"\",\n        \"description\": \"\"\n      }\n    },\n    {\n      \"column\": \"reclat\",\n      \"properties\": {\n        \"dtype\": \"number\",\n        \"std\": 38.276855618129346,\n        \"min\": -33.16667,\n        \"max\": 56.18333,\n        \"num_unique_values\": 5,\n        \"samples\": [\n          56.18333\n        ],\n        \"semantic_type\": \"\",\n        \"description\": \"\"\n      }\n    },\n    {\n      \"column\": \"reclong\",\n      \"properties\": {\n        \"dtype\": \"number\",\n        \"std\": 57.94243449421736,\n        \"min\": -113.0,\n        \"max\": 10.23333,\n        \"num_unique_values\": 5,\n        \"samples\": [\n          10.23333\n        ],\n        \"semantic_type\": \"\",\n        \"description\": \"\"\n      }\n    },\n    {\n      \"column\": \"GeoLocation\",\n      \"properties\": {\n        \"dtype\": \"string\",\n        \"num_unique_values\": 5,\n        \"samples\": [\n          \"(56.18333, 10.23333)\"\n        ],\n        \"semantic_type\": \"\",\n        \"description\": \"\"\n      }\n    }\n  ]\n}"
            }
          },
          "metadata": {},
          "execution_count": 9
        }
      ],
      "source": [
        "import pandas as pd\n",
        "\n",
        "meteorites = pd.read_csv('../data/Meteorite_Landings.csv', nrows=5)\n",
        "meteorites"
      ]
    },
    {
      "cell_type": "markdown",
      "id": "0f71bf2b-8ff6-4352-b764-ca323a4bcb5e",
      "metadata": {
        "editable": true,
        "tags": [],
        "id": "0f71bf2b-8ff6-4352-b764-ca323a4bcb5e"
      },
      "source": [
        "*Source: [NASA's Open Data Portal](https://data.nasa.gov/Space-Science/Meteorite-Landings/gh4g-9sfh)*"
      ]
    },
    {
      "cell_type": "markdown",
      "id": "08f9c73e-20be-40d1-b5e9-1bfd24b5be25",
      "metadata": {
        "editable": true,
        "tags": [],
        "id": "08f9c73e-20be-40d1-b5e9-1bfd24b5be25"
      },
      "source": [
        "#### Series:"
      ]
    },
    {
      "cell_type": "code",
      "execution_count": 10,
      "id": "e9481da8-a3b5-4f6e-b9fc-cdb049090dbe",
      "metadata": {
        "editable": true,
        "tags": [],
        "id": "e9481da8-a3b5-4f6e-b9fc-cdb049090dbe",
        "outputId": "280b74c5-49c0-402b-ca1d-8ba7684f5d9d",
        "colab": {
          "base_uri": "https://localhost:8080/",
          "height": 241
        }
      },
      "outputs": [
        {
          "output_type": "execute_result",
          "data": {
            "text/plain": [
              "0      Aachen\n",
              "1      Aarhus\n",
              "2        Abee\n",
              "3    Acapulco\n",
              "4     Achiras\n",
              "Name: name, dtype: object"
            ],
            "text/html": [
              "<div>\n",
              "<style scoped>\n",
              "    .dataframe tbody tr th:only-of-type {\n",
              "        vertical-align: middle;\n",
              "    }\n",
              "\n",
              "    .dataframe tbody tr th {\n",
              "        vertical-align: top;\n",
              "    }\n",
              "\n",
              "    .dataframe thead th {\n",
              "        text-align: right;\n",
              "    }\n",
              "</style>\n",
              "<table border=\"1\" class=\"dataframe\">\n",
              "  <thead>\n",
              "    <tr style=\"text-align: right;\">\n",
              "      <th></th>\n",
              "      <th>name</th>\n",
              "    </tr>\n",
              "  </thead>\n",
              "  <tbody>\n",
              "    <tr>\n",
              "      <th>0</th>\n",
              "      <td>Aachen</td>\n",
              "    </tr>\n",
              "    <tr>\n",
              "      <th>1</th>\n",
              "      <td>Aarhus</td>\n",
              "    </tr>\n",
              "    <tr>\n",
              "      <th>2</th>\n",
              "      <td>Abee</td>\n",
              "    </tr>\n",
              "    <tr>\n",
              "      <th>3</th>\n",
              "      <td>Acapulco</td>\n",
              "    </tr>\n",
              "    <tr>\n",
              "      <th>4</th>\n",
              "      <td>Achiras</td>\n",
              "    </tr>\n",
              "  </tbody>\n",
              "</table>\n",
              "</div><br><label><b>dtype:</b> object</label>"
            ]
          },
          "metadata": {},
          "execution_count": 10
        }
      ],
      "source": [
        "meteorites.name"
      ]
    },
    {
      "cell_type": "markdown",
      "id": "5ad03f4e-5f74-4440-a825-cd8e964006d2",
      "metadata": {
        "editable": true,
        "tags": [],
        "id": "5ad03f4e-5f74-4440-a825-cd8e964006d2"
      },
      "source": [
        "#### Columns:"
      ]
    },
    {
      "cell_type": "code",
      "execution_count": 11,
      "id": "2b8723c5-3e4d-4038-82c7-5c0e9651f01c",
      "metadata": {
        "editable": true,
        "tags": [],
        "id": "2b8723c5-3e4d-4038-82c7-5c0e9651f01c",
        "outputId": "5ac8c143-cbbd-4ff9-a20f-78b87c921d35",
        "colab": {
          "base_uri": "https://localhost:8080/"
        }
      },
      "outputs": [
        {
          "output_type": "execute_result",
          "data": {
            "text/plain": [
              "Index(['name', 'id', 'nametype', 'recclass', 'mass (g)', 'fall', 'year',\n",
              "       'reclat', 'reclong', 'GeoLocation'],\n",
              "      dtype='object')"
            ]
          },
          "metadata": {},
          "execution_count": 11
        }
      ],
      "source": [
        "meteorites.columns"
      ]
    },
    {
      "cell_type": "markdown",
      "id": "649a8b50-2ff5-403b-8752-cbcf992de79f",
      "metadata": {
        "editable": true,
        "tags": [],
        "id": "649a8b50-2ff5-403b-8752-cbcf992de79f"
      },
      "source": [
        "#### Index:"
      ]
    },
    {
      "cell_type": "code",
      "execution_count": null,
      "id": "43a06370-f735-4a9d-a64f-493e03b2b2c7",
      "metadata": {
        "editable": true,
        "tags": [],
        "id": "43a06370-f735-4a9d-a64f-493e03b2b2c7",
        "outputId": "7ec25fef-0bfd-4343-c370-df4ee05c6bc0"
      },
      "outputs": [
        {
          "data": {
            "text/plain": [
              "RangeIndex(start=0, stop=5, step=1)"
            ]
          },
          "execution_count": 4,
          "metadata": {},
          "output_type": "execute_result"
        }
      ],
      "source": [
        "meteorites.index"
      ]
    },
    {
      "cell_type": "markdown",
      "id": "49080335-73c4-4b21-a181-70370544f3aa",
      "metadata": {
        "editable": true,
        "tags": [],
        "id": "49080335-73c4-4b21-a181-70370544f3aa"
      },
      "source": [
        "## Creating DataFrames\n",
        "\n",
        "We can create DataFrames from a variety of sources such as other Python objects, flat files, webscraping, and API requests. Here, we will see just a couple of examples, but be sure to check out [this page](https://pandas.pydata.org/pandas-docs/stable/user_guide/io.html) in the documentation for a complete list."
      ]
    },
    {
      "cell_type": "markdown",
      "id": "a655f25f-c5ce-4286-a671-eee6c1eef663",
      "metadata": {
        "editable": true,
        "tags": [],
        "id": "a655f25f-c5ce-4286-a671-eee6c1eef663"
      },
      "source": [
        "### Using a flat file"
      ]
    },
    {
      "cell_type": "code",
      "execution_count": null,
      "id": "96da3638-773f-4a4a-a766-b5f34da67f80",
      "metadata": {
        "editable": true,
        "tags": [],
        "id": "96da3638-773f-4a4a-a766-b5f34da67f80"
      },
      "outputs": [],
      "source": [
        "import pandas as pd\n",
        "\n",
        "meteorites = pd.read_csv('../data/Meteorite_Landings.csv')"
      ]
    },
    {
      "cell_type": "markdown",
      "id": "0ac0a6c5-9366-481f-87cc-5d84742cebf8",
      "metadata": {
        "editable": true,
        "tags": [],
        "id": "0ac0a6c5-9366-481f-87cc-5d84742cebf8"
      },
      "source": [
        "*Tip: There are many parameters to this function to handle some initial processing while reading in the file &ndash; be sure check out the [documentation](https://pandas.pydata.org/docs/reference/api/pandas.read_csv.html).*"
      ]
    },
    {
      "cell_type": "markdown",
      "id": "8097800d-f20a-4a28-ab25-ec2218903cb3",
      "metadata": {
        "editable": true,
        "tags": [],
        "id": "8097800d-f20a-4a28-ab25-ec2218903cb3"
      },
      "source": [
        "### Using data from an API\n",
        "\n",
        "Collect the data from [NASA's Open Data Portal](https://data.nasa.gov/Space-Science/Meteorite-Landings/gh4g-9sfh) using the Socrata Open Data API (SODA) with the `requests` library:"
      ]
    },
    {
      "cell_type": "code",
      "execution_count": null,
      "id": "45bf1785-4f25-461b-b600-543ccb0fccff",
      "metadata": {
        "editable": true,
        "tags": [],
        "id": "45bf1785-4f25-461b-b600-543ccb0fccff"
      },
      "outputs": [],
      "source": [
        "import requests\n",
        "\n",
        "response = requests.get(\n",
        "    'https://data.nasa.gov/resource/gh4g-9sfh.json',\n",
        "    params={'$limit': 50_000}\n",
        ")\n",
        "\n",
        "if response.ok:\n",
        "    payload = response.json()\n",
        "else:\n",
        "    print(f'Request was not successful and returned code: {response.status_code}.')\n",
        "    payload = None"
      ]
    },
    {
      "cell_type": "markdown",
      "id": "575a0059-5f81-46cf-9a1c-7dc06d874a72",
      "metadata": {
        "editable": true,
        "tags": [],
        "id": "575a0059-5f81-46cf-9a1c-7dc06d874a72"
      },
      "source": [
        "Create the DataFrame with the resulting payload:"
      ]
    },
    {
      "cell_type": "code",
      "execution_count": null,
      "id": "be644eb4-193e-4820-9855-3e959c899319",
      "metadata": {
        "editable": true,
        "tags": [],
        "id": "be644eb4-193e-4820-9855-3e959c899319",
        "outputId": "7067c0e6-44e4-4464-bc06-0540e183fdaa"
      },
      "outputs": [
        {
          "data": {
            "text/html": [
              "<div>\n",
              "<style scoped>\n",
              "    .dataframe tbody tr th:only-of-type {\n",
              "        vertical-align: middle;\n",
              "    }\n",
              "\n",
              "    .dataframe tbody tr th {\n",
              "        vertical-align: top;\n",
              "    }\n",
              "\n",
              "    .dataframe thead th {\n",
              "        text-align: right;\n",
              "    }\n",
              "</style>\n",
              "<table border=\"1\" class=\"dataframe\">\n",
              "  <thead>\n",
              "    <tr style=\"text-align: right;\">\n",
              "      <th></th>\n",
              "      <th>name</th>\n",
              "      <th>id</th>\n",
              "      <th>nametype</th>\n",
              "      <th>recclass</th>\n",
              "      <th>mass</th>\n",
              "      <th>fall</th>\n",
              "      <th>year</th>\n",
              "      <th>reclat</th>\n",
              "      <th>reclong</th>\n",
              "      <th>geolocation</th>\n",
              "      <th>:@computed_region_cbhk_fwbd</th>\n",
              "      <th>:@computed_region_nnqa_25f4</th>\n",
              "    </tr>\n",
              "  </thead>\n",
              "  <tbody>\n",
              "    <tr>\n",
              "      <th>0</th>\n",
              "      <td>Aachen</td>\n",
              "      <td>1</td>\n",
              "      <td>Valid</td>\n",
              "      <td>L5</td>\n",
              "      <td>21</td>\n",
              "      <td>Fell</td>\n",
              "      <td>1880-01-01T00:00:00.000</td>\n",
              "      <td>50.775000</td>\n",
              "      <td>6.083330</td>\n",
              "      <td>{'latitude': '50.775', 'longitude': '6.08333'}</td>\n",
              "      <td>NaN</td>\n",
              "      <td>NaN</td>\n",
              "    </tr>\n",
              "    <tr>\n",
              "      <th>1</th>\n",
              "      <td>Aarhus</td>\n",
              "      <td>2</td>\n",
              "      <td>Valid</td>\n",
              "      <td>H6</td>\n",
              "      <td>720</td>\n",
              "      <td>Fell</td>\n",
              "      <td>1951-01-01T00:00:00.000</td>\n",
              "      <td>56.183330</td>\n",
              "      <td>10.233330</td>\n",
              "      <td>{'latitude': '56.18333', 'longitude': '10.23333'}</td>\n",
              "      <td>NaN</td>\n",
              "      <td>NaN</td>\n",
              "    </tr>\n",
              "    <tr>\n",
              "      <th>2</th>\n",
              "      <td>Abee</td>\n",
              "      <td>6</td>\n",
              "      <td>Valid</td>\n",
              "      <td>EH4</td>\n",
              "      <td>107000</td>\n",
              "      <td>Fell</td>\n",
              "      <td>1952-01-01T00:00:00.000</td>\n",
              "      <td>54.216670</td>\n",
              "      <td>-113.000000</td>\n",
              "      <td>{'latitude': '54.21667', 'longitude': '-113.0'}</td>\n",
              "      <td>NaN</td>\n",
              "      <td>NaN</td>\n",
              "    </tr>\n",
              "  </tbody>\n",
              "</table>\n",
              "</div>"
            ],
            "text/plain": [
              "     name id nametype recclass    mass  fall                     year  \\\n",
              "0  Aachen  1    Valid       L5      21  Fell  1880-01-01T00:00:00.000   \n",
              "1  Aarhus  2    Valid       H6     720  Fell  1951-01-01T00:00:00.000   \n",
              "2    Abee  6    Valid      EH4  107000  Fell  1952-01-01T00:00:00.000   \n",
              "\n",
              "      reclat      reclong                                        geolocation  \\\n",
              "0  50.775000     6.083330     {'latitude': '50.775', 'longitude': '6.08333'}   \n",
              "1  56.183330    10.233330  {'latitude': '56.18333', 'longitude': '10.23333'}   \n",
              "2  54.216670  -113.000000    {'latitude': '54.21667', 'longitude': '-113.0'}   \n",
              "\n",
              "  :@computed_region_cbhk_fwbd :@computed_region_nnqa_25f4  \n",
              "0                         NaN                         NaN  \n",
              "1                         NaN                         NaN  \n",
              "2                         NaN                         NaN  "
            ]
          },
          "execution_count": 7,
          "metadata": {},
          "output_type": "execute_result"
        }
      ],
      "source": [
        "import pandas as pd\n",
        "\n",
        "df = pd.DataFrame(payload)\n",
        "df.head(3)"
      ]
    },
    {
      "cell_type": "markdown",
      "id": "09f139e3-ae7a-4f53-96ae-5f8de4e641d2",
      "metadata": {
        "editable": true,
        "tags": [],
        "id": "09f139e3-ae7a-4f53-96ae-5f8de4e641d2"
      },
      "source": [
        "*Tip: `df.to_csv('data.csv')` writes this data to a new file called `data.csv`.*"
      ]
    },
    {
      "cell_type": "markdown",
      "id": "0a263d5a-d2c5-46c2-990c-3894b3ed39bf",
      "metadata": {
        "editable": true,
        "tags": [],
        "id": "0a263d5a-d2c5-46c2-990c-3894b3ed39bf"
      },
      "source": [
        "## Inspecting the data\n",
        "Now that we have some data, we need to perform an initial inspection of it. This gives us information on what the data looks like, how many rows/columns there are, and how much data we have."
      ]
    },
    {
      "cell_type": "markdown",
      "id": "f3e541dd-73d2-4f40-82e0-b8a59aa48b04",
      "metadata": {
        "editable": true,
        "tags": [],
        "id": "f3e541dd-73d2-4f40-82e0-b8a59aa48b04"
      },
      "source": [
        "Let's inspect the `meteorites` data."
      ]
    },
    {
      "cell_type": "markdown",
      "id": "0246c277-5638-49a9-a7e1-6e82b1c15265",
      "metadata": {
        "editable": true,
        "tags": [],
        "id": "0246c277-5638-49a9-a7e1-6e82b1c15265"
      },
      "source": [
        "#### How many rows and columns are there?"
      ]
    },
    {
      "cell_type": "code",
      "execution_count": null,
      "id": "d968d99d-dbf8-4402-a556-4200e13afe72",
      "metadata": {
        "editable": true,
        "tags": [],
        "id": "d968d99d-dbf8-4402-a556-4200e13afe72",
        "outputId": "cddddc0e-1784-4842-ac44-a4d11e56b346"
      },
      "outputs": [
        {
          "data": {
            "text/plain": [
              "(45716, 10)"
            ]
          },
          "execution_count": 8,
          "metadata": {},
          "output_type": "execute_result"
        }
      ],
      "source": [
        "meteorites.shape"
      ]
    },
    {
      "cell_type": "markdown",
      "id": "8ee994e7-25e0-4062-ae29-fadb0f698c88",
      "metadata": {
        "editable": true,
        "tags": [],
        "id": "8ee994e7-25e0-4062-ae29-fadb0f698c88"
      },
      "source": [
        "#### What are the column names?"
      ]
    },
    {
      "cell_type": "code",
      "execution_count": null,
      "id": "24045c3d-085f-485d-b5a7-422037b24272",
      "metadata": {
        "editable": true,
        "tags": [],
        "id": "24045c3d-085f-485d-b5a7-422037b24272",
        "outputId": "0aa1396d-21d3-4708-f3e4-f193713bf57d"
      },
      "outputs": [
        {
          "data": {
            "text/plain": [
              "Index(['name', 'id', 'nametype', 'recclass', 'mass (g)', 'fall', 'year',\n",
              "       'reclat', 'reclong', 'GeoLocation'],\n",
              "      dtype='object')"
            ]
          },
          "execution_count": 9,
          "metadata": {},
          "output_type": "execute_result"
        }
      ],
      "source": [
        "meteorites.columns"
      ]
    },
    {
      "cell_type": "markdown",
      "id": "3b138718-9c73-40f0-b4d2-7280a688fa89",
      "metadata": {
        "editable": true,
        "tags": [],
        "id": "3b138718-9c73-40f0-b4d2-7280a688fa89"
      },
      "source": [
        "#### What type of data does each column currently hold?"
      ]
    },
    {
      "cell_type": "code",
      "execution_count": null,
      "id": "408c70cc-f900-45d2-828d-827ba6dd4123",
      "metadata": {
        "editable": true,
        "tags": [],
        "id": "408c70cc-f900-45d2-828d-827ba6dd4123",
        "outputId": "4c6d963e-684b-4eed-caf2-17b802716b3a"
      },
      "outputs": [
        {
          "data": {
            "text/plain": [
              "name            object\n",
              "id               int64\n",
              "nametype        object\n",
              "recclass        object\n",
              "mass (g)       float64\n",
              "fall            object\n",
              "year            object\n",
              "reclat         float64\n",
              "reclong        float64\n",
              "GeoLocation     object\n",
              "dtype: object"
            ]
          },
          "execution_count": 10,
          "metadata": {},
          "output_type": "execute_result"
        }
      ],
      "source": [
        "meteorites.dtypes"
      ]
    },
    {
      "cell_type": "markdown",
      "id": "d6011183-5228-4f1c-a7c4-3f4e1cc9a4db",
      "metadata": {
        "editable": true,
        "tags": [],
        "id": "d6011183-5228-4f1c-a7c4-3f4e1cc9a4db"
      },
      "source": [
        "#### What does the data look like?"
      ]
    },
    {
      "cell_type": "code",
      "execution_count": null,
      "id": "3de2f605-ca0a-4e5e-9add-76309296adf5",
      "metadata": {
        "editable": true,
        "tags": [],
        "id": "3de2f605-ca0a-4e5e-9add-76309296adf5",
        "outputId": "c7402248-f2b6-4fec-85e0-89b26a304865"
      },
      "outputs": [
        {
          "data": {
            "text/html": [
              "<div>\n",
              "<style scoped>\n",
              "    .dataframe tbody tr th:only-of-type {\n",
              "        vertical-align: middle;\n",
              "    }\n",
              "\n",
              "    .dataframe tbody tr th {\n",
              "        vertical-align: top;\n",
              "    }\n",
              "\n",
              "    .dataframe thead th {\n",
              "        text-align: right;\n",
              "    }\n",
              "</style>\n",
              "<table border=\"1\" class=\"dataframe\">\n",
              "  <thead>\n",
              "    <tr style=\"text-align: right;\">\n",
              "      <th></th>\n",
              "      <th>name</th>\n",
              "      <th>id</th>\n",
              "      <th>nametype</th>\n",
              "      <th>recclass</th>\n",
              "      <th>mass (g)</th>\n",
              "      <th>fall</th>\n",
              "      <th>year</th>\n",
              "      <th>reclat</th>\n",
              "      <th>reclong</th>\n",
              "      <th>GeoLocation</th>\n",
              "    </tr>\n",
              "  </thead>\n",
              "  <tbody>\n",
              "    <tr>\n",
              "      <th>0</th>\n",
              "      <td>Aachen</td>\n",
              "      <td>1</td>\n",
              "      <td>Valid</td>\n",
              "      <td>L5</td>\n",
              "      <td>21.0</td>\n",
              "      <td>Fell</td>\n",
              "      <td>01/01/1880 12:00:00 AM</td>\n",
              "      <td>50.77500</td>\n",
              "      <td>6.08333</td>\n",
              "      <td>(50.775, 6.08333)</td>\n",
              "    </tr>\n",
              "    <tr>\n",
              "      <th>1</th>\n",
              "      <td>Aarhus</td>\n",
              "      <td>2</td>\n",
              "      <td>Valid</td>\n",
              "      <td>H6</td>\n",
              "      <td>720.0</td>\n",
              "      <td>Fell</td>\n",
              "      <td>01/01/1951 12:00:00 AM</td>\n",
              "      <td>56.18333</td>\n",
              "      <td>10.23333</td>\n",
              "      <td>(56.18333, 10.23333)</td>\n",
              "    </tr>\n",
              "    <tr>\n",
              "      <th>2</th>\n",
              "      <td>Abee</td>\n",
              "      <td>6</td>\n",
              "      <td>Valid</td>\n",
              "      <td>EH4</td>\n",
              "      <td>107000.0</td>\n",
              "      <td>Fell</td>\n",
              "      <td>01/01/1952 12:00:00 AM</td>\n",
              "      <td>54.21667</td>\n",
              "      <td>-113.00000</td>\n",
              "      <td>(54.21667, -113.0)</td>\n",
              "    </tr>\n",
              "    <tr>\n",
              "      <th>3</th>\n",
              "      <td>Acapulco</td>\n",
              "      <td>10</td>\n",
              "      <td>Valid</td>\n",
              "      <td>Acapulcoite</td>\n",
              "      <td>1914.0</td>\n",
              "      <td>Fell</td>\n",
              "      <td>01/01/1976 12:00:00 AM</td>\n",
              "      <td>16.88333</td>\n",
              "      <td>-99.90000</td>\n",
              "      <td>(16.88333, -99.9)</td>\n",
              "    </tr>\n",
              "    <tr>\n",
              "      <th>4</th>\n",
              "      <td>Achiras</td>\n",
              "      <td>370</td>\n",
              "      <td>Valid</td>\n",
              "      <td>L6</td>\n",
              "      <td>780.0</td>\n",
              "      <td>Fell</td>\n",
              "      <td>01/01/1902 12:00:00 AM</td>\n",
              "      <td>-33.16667</td>\n",
              "      <td>-64.95000</td>\n",
              "      <td>(-33.16667, -64.95)</td>\n",
              "    </tr>\n",
              "  </tbody>\n",
              "</table>\n",
              "</div>"
            ],
            "text/plain": [
              "       name   id nametype     recclass  mass (g)  fall  \\\n",
              "0    Aachen    1    Valid           L5      21.0  Fell   \n",
              "1    Aarhus    2    Valid           H6     720.0  Fell   \n",
              "2      Abee    6    Valid          EH4  107000.0  Fell   \n",
              "3  Acapulco   10    Valid  Acapulcoite    1914.0  Fell   \n",
              "4   Achiras  370    Valid           L6     780.0  Fell   \n",
              "\n",
              "                     year    reclat    reclong           GeoLocation  \n",
              "0  01/01/1880 12:00:00 AM  50.77500    6.08333     (50.775, 6.08333)  \n",
              "1  01/01/1951 12:00:00 AM  56.18333   10.23333  (56.18333, 10.23333)  \n",
              "2  01/01/1952 12:00:00 AM  54.21667 -113.00000    (54.21667, -113.0)  \n",
              "3  01/01/1976 12:00:00 AM  16.88333  -99.90000     (16.88333, -99.9)  \n",
              "4  01/01/1902 12:00:00 AM -33.16667  -64.95000   (-33.16667, -64.95)  "
            ]
          },
          "execution_count": 11,
          "metadata": {},
          "output_type": "execute_result"
        }
      ],
      "source": [
        "meteorites.head()"
      ]
    },
    {
      "cell_type": "markdown",
      "id": "54e767f9-adb9-4921-86be-75426fb13846",
      "metadata": {
        "editable": true,
        "tags": [],
        "id": "54e767f9-adb9-4921-86be-75426fb13846"
      },
      "source": [
        "Sometimes there may be extraneous data at the end of the file, so checking the bottom few rows is also important:"
      ]
    },
    {
      "cell_type": "code",
      "execution_count": null,
      "id": "3b7f694d-c34c-4042-a051-07dc8759a11c",
      "metadata": {
        "editable": true,
        "tags": [],
        "id": "3b7f694d-c34c-4042-a051-07dc8759a11c",
        "outputId": "749d352b-f3a9-413d-a0db-9a029c53e9af"
      },
      "outputs": [
        {
          "data": {
            "text/html": [
              "<div>\n",
              "<style scoped>\n",
              "    .dataframe tbody tr th:only-of-type {\n",
              "        vertical-align: middle;\n",
              "    }\n",
              "\n",
              "    .dataframe tbody tr th {\n",
              "        vertical-align: top;\n",
              "    }\n",
              "\n",
              "    .dataframe thead th {\n",
              "        text-align: right;\n",
              "    }\n",
              "</style>\n",
              "<table border=\"1\" class=\"dataframe\">\n",
              "  <thead>\n",
              "    <tr style=\"text-align: right;\">\n",
              "      <th></th>\n",
              "      <th>name</th>\n",
              "      <th>id</th>\n",
              "      <th>nametype</th>\n",
              "      <th>recclass</th>\n",
              "      <th>mass (g)</th>\n",
              "      <th>fall</th>\n",
              "      <th>year</th>\n",
              "      <th>reclat</th>\n",
              "      <th>reclong</th>\n",
              "      <th>GeoLocation</th>\n",
              "    </tr>\n",
              "  </thead>\n",
              "  <tbody>\n",
              "    <tr>\n",
              "      <th>45711</th>\n",
              "      <td>Zillah 002</td>\n",
              "      <td>31356</td>\n",
              "      <td>Valid</td>\n",
              "      <td>Eucrite</td>\n",
              "      <td>172.0</td>\n",
              "      <td>Found</td>\n",
              "      <td>01/01/1990 12:00:00 AM</td>\n",
              "      <td>29.03700</td>\n",
              "      <td>17.01850</td>\n",
              "      <td>(29.037, 17.0185)</td>\n",
              "    </tr>\n",
              "    <tr>\n",
              "      <th>45712</th>\n",
              "      <td>Zinder</td>\n",
              "      <td>30409</td>\n",
              "      <td>Valid</td>\n",
              "      <td>Pallasite, ungrouped</td>\n",
              "      <td>46.0</td>\n",
              "      <td>Found</td>\n",
              "      <td>01/01/1999 12:00:00 AM</td>\n",
              "      <td>13.78333</td>\n",
              "      <td>8.96667</td>\n",
              "      <td>(13.78333, 8.96667)</td>\n",
              "    </tr>\n",
              "    <tr>\n",
              "      <th>45713</th>\n",
              "      <td>Zlin</td>\n",
              "      <td>30410</td>\n",
              "      <td>Valid</td>\n",
              "      <td>H4</td>\n",
              "      <td>3.3</td>\n",
              "      <td>Found</td>\n",
              "      <td>01/01/1939 12:00:00 AM</td>\n",
              "      <td>49.25000</td>\n",
              "      <td>17.66667</td>\n",
              "      <td>(49.25, 17.66667)</td>\n",
              "    </tr>\n",
              "    <tr>\n",
              "      <th>45714</th>\n",
              "      <td>Zubkovsky</td>\n",
              "      <td>31357</td>\n",
              "      <td>Valid</td>\n",
              "      <td>L6</td>\n",
              "      <td>2167.0</td>\n",
              "      <td>Found</td>\n",
              "      <td>01/01/2003 12:00:00 AM</td>\n",
              "      <td>49.78917</td>\n",
              "      <td>41.50460</td>\n",
              "      <td>(49.78917, 41.5046)</td>\n",
              "    </tr>\n",
              "    <tr>\n",
              "      <th>45715</th>\n",
              "      <td>Zulu Queen</td>\n",
              "      <td>30414</td>\n",
              "      <td>Valid</td>\n",
              "      <td>L3.7</td>\n",
              "      <td>200.0</td>\n",
              "      <td>Found</td>\n",
              "      <td>01/01/1976 12:00:00 AM</td>\n",
              "      <td>33.98333</td>\n",
              "      <td>-115.68333</td>\n",
              "      <td>(33.98333, -115.68333)</td>\n",
              "    </tr>\n",
              "  </tbody>\n",
              "</table>\n",
              "</div>"
            ],
            "text/plain": [
              "             name     id nametype              recclass  mass (g)   fall  \\\n",
              "45711  Zillah 002  31356    Valid               Eucrite     172.0  Found   \n",
              "45712      Zinder  30409    Valid  Pallasite, ungrouped      46.0  Found   \n",
              "45713        Zlin  30410    Valid                    H4       3.3  Found   \n",
              "45714   Zubkovsky  31357    Valid                    L6    2167.0  Found   \n",
              "45715  Zulu Queen  30414    Valid                  L3.7     200.0  Found   \n",
              "\n",
              "                         year    reclat    reclong             GeoLocation  \n",
              "45711  01/01/1990 12:00:00 AM  29.03700   17.01850       (29.037, 17.0185)  \n",
              "45712  01/01/1999 12:00:00 AM  13.78333    8.96667     (13.78333, 8.96667)  \n",
              "45713  01/01/1939 12:00:00 AM  49.25000   17.66667       (49.25, 17.66667)  \n",
              "45714  01/01/2003 12:00:00 AM  49.78917   41.50460     (49.78917, 41.5046)  \n",
              "45715  01/01/1976 12:00:00 AM  33.98333 -115.68333  (33.98333, -115.68333)  "
            ]
          },
          "execution_count": 12,
          "metadata": {},
          "output_type": "execute_result"
        }
      ],
      "source": [
        "meteorites.tail()"
      ]
    },
    {
      "cell_type": "markdown",
      "id": "3f4989da-09bd-4f22-bb5a-b69d57e07b00",
      "metadata": {
        "editable": true,
        "tags": [],
        "id": "3f4989da-09bd-4f22-bb5a-b69d57e07b00"
      },
      "source": [
        "#### Get some information about the DataFrame"
      ]
    },
    {
      "cell_type": "code",
      "execution_count": null,
      "id": "acbaa48e-0ebc-4412-b5ff-bded4f43e806",
      "metadata": {
        "editable": true,
        "tags": [],
        "id": "acbaa48e-0ebc-4412-b5ff-bded4f43e806",
        "outputId": "9f815ab0-4a06-4854-c0a5-49519d7da22e"
      },
      "outputs": [
        {
          "name": "stdout",
          "output_type": "stream",
          "text": [
            "<class 'pandas.core.frame.DataFrame'>\n",
            "RangeIndex: 45716 entries, 0 to 45715\n",
            "Data columns (total 10 columns):\n",
            " #   Column       Non-Null Count  Dtype  \n",
            "---  ------       --------------  -----  \n",
            " 0   name         45716 non-null  object \n",
            " 1   id           45716 non-null  int64  \n",
            " 2   nametype     45716 non-null  object \n",
            " 3   recclass     45716 non-null  object \n",
            " 4   mass (g)     45585 non-null  float64\n",
            " 5   fall         45716 non-null  object \n",
            " 6   year         45425 non-null  object \n",
            " 7   reclat       38401 non-null  float64\n",
            " 8   reclong      38401 non-null  float64\n",
            " 9   GeoLocation  38401 non-null  object \n",
            "dtypes: float64(3), int64(1), object(6)\n",
            "memory usage: 3.5+ MB\n"
          ]
        }
      ],
      "source": [
        "meteorites.info()"
      ]
    },
    {
      "cell_type": "markdown",
      "id": "462f9df6-c1fc-4eaa-9c43-e810badb2257",
      "metadata": {
        "editable": true,
        "tags": [],
        "id": "462f9df6-c1fc-4eaa-9c43-e810badb2257"
      },
      "source": [
        "### [Exercise 1.1](./workbook.ipynb#Exercise-1.1)\n",
        "\n",
        "##### Create a DataFrame by reading in the `2019_Yellow_Taxi_Trip_Data.csv` file. Examine the first 5 rows."
      ]
    },
    {
      "cell_type": "code",
      "execution_count": 12,
      "id": "317e4c45-7afe-425f-a7a2-cad55f20a91e",
      "metadata": {
        "editable": true,
        "tags": [],
        "id": "317e4c45-7afe-425f-a7a2-cad55f20a91e",
        "outputId": "3cb1cc0d-2ae6-49e9-ec83-04831925202d",
        "colab": {
          "base_uri": "https://localhost:8080/",
          "height": 226
        }
      },
      "outputs": [
        {
          "output_type": "execute_result",
          "data": {
            "text/plain": [
              "   vendorid     tpep_pickup_datetime    tpep_dropoff_datetime  \\\n",
              "0         2  2019-10-23T16:39:42.000  2019-10-23T17:14:10.000   \n",
              "1         1  2019-10-23T16:32:08.000  2019-10-23T16:45:26.000   \n",
              "2         2  2019-10-23T16:08:44.000  2019-10-23T16:21:11.000   \n",
              "3         2  2019-10-23T16:22:44.000  2019-10-23T16:43:26.000   \n",
              "4         2  2019-10-23T16:45:11.000  2019-10-23T16:58:49.000   \n",
              "\n",
              "   passenger_count  trip_distance  ratecodeid store_and_fwd_flag  \\\n",
              "0                1           7.93           1                  N   \n",
              "1                1           2.00           1                  N   \n",
              "2                1           1.36           1                  N   \n",
              "3                1           1.00           1                  N   \n",
              "4                1           1.96           1                  N   \n",
              "\n",
              "   pulocationid  dolocationid  payment_type  fare_amount  extra  mta_tax  \\\n",
              "0           138           170             1         29.5      1      0.5   \n",
              "1            11            26             1         10.5      1      0.5   \n",
              "2           163           162             1          9.5      1      0.5   \n",
              "3           170           163             1         13.0      1      0.5   \n",
              "4           163           236             1         10.5      1      0.5   \n",
              "\n",
              "   tip_amount  tolls_amount  improvement_surcharge  total_amount  \\\n",
              "0        7.98          6.12                    0.3         47.90   \n",
              "1        0.00          0.00                    0.3         12.30   \n",
              "2        2.00          0.00                    0.3         15.80   \n",
              "3        4.32          0.00                    0.3         21.62   \n",
              "4        0.50          0.00                    0.3         15.30   \n",
              "\n",
              "   congestion_surcharge  \n",
              "0                   2.5  \n",
              "1                   0.0  \n",
              "2                   2.5  \n",
              "3                   2.5  \n",
              "4                   2.5  "
            ],
            "text/html": [
              "\n",
              "  <div id=\"df-5c98b84b-f304-4e0b-b230-8dde6065f6ed\" class=\"colab-df-container\">\n",
              "    <div>\n",
              "<style scoped>\n",
              "    .dataframe tbody tr th:only-of-type {\n",
              "        vertical-align: middle;\n",
              "    }\n",
              "\n",
              "    .dataframe tbody tr th {\n",
              "        vertical-align: top;\n",
              "    }\n",
              "\n",
              "    .dataframe thead th {\n",
              "        text-align: right;\n",
              "    }\n",
              "</style>\n",
              "<table border=\"1\" class=\"dataframe\">\n",
              "  <thead>\n",
              "    <tr style=\"text-align: right;\">\n",
              "      <th></th>\n",
              "      <th>vendorid</th>\n",
              "      <th>tpep_pickup_datetime</th>\n",
              "      <th>tpep_dropoff_datetime</th>\n",
              "      <th>passenger_count</th>\n",
              "      <th>trip_distance</th>\n",
              "      <th>ratecodeid</th>\n",
              "      <th>store_and_fwd_flag</th>\n",
              "      <th>pulocationid</th>\n",
              "      <th>dolocationid</th>\n",
              "      <th>payment_type</th>\n",
              "      <th>fare_amount</th>\n",
              "      <th>extra</th>\n",
              "      <th>mta_tax</th>\n",
              "      <th>tip_amount</th>\n",
              "      <th>tolls_amount</th>\n",
              "      <th>improvement_surcharge</th>\n",
              "      <th>total_amount</th>\n",
              "      <th>congestion_surcharge</th>\n",
              "    </tr>\n",
              "  </thead>\n",
              "  <tbody>\n",
              "    <tr>\n",
              "      <th>0</th>\n",
              "      <td>2</td>\n",
              "      <td>2019-10-23T16:39:42.000</td>\n",
              "      <td>2019-10-23T17:14:10.000</td>\n",
              "      <td>1</td>\n",
              "      <td>7.93</td>\n",
              "      <td>1</td>\n",
              "      <td>N</td>\n",
              "      <td>138</td>\n",
              "      <td>170</td>\n",
              "      <td>1</td>\n",
              "      <td>29.5</td>\n",
              "      <td>1</td>\n",
              "      <td>0.5</td>\n",
              "      <td>7.98</td>\n",
              "      <td>6.12</td>\n",
              "      <td>0.3</td>\n",
              "      <td>47.90</td>\n",
              "      <td>2.5</td>\n",
              "    </tr>\n",
              "    <tr>\n",
              "      <th>1</th>\n",
              "      <td>1</td>\n",
              "      <td>2019-10-23T16:32:08.000</td>\n",
              "      <td>2019-10-23T16:45:26.000</td>\n",
              "      <td>1</td>\n",
              "      <td>2.00</td>\n",
              "      <td>1</td>\n",
              "      <td>N</td>\n",
              "      <td>11</td>\n",
              "      <td>26</td>\n",
              "      <td>1</td>\n",
              "      <td>10.5</td>\n",
              "      <td>1</td>\n",
              "      <td>0.5</td>\n",
              "      <td>0.00</td>\n",
              "      <td>0.00</td>\n",
              "      <td>0.3</td>\n",
              "      <td>12.30</td>\n",
              "      <td>0.0</td>\n",
              "    </tr>\n",
              "    <tr>\n",
              "      <th>2</th>\n",
              "      <td>2</td>\n",
              "      <td>2019-10-23T16:08:44.000</td>\n",
              "      <td>2019-10-23T16:21:11.000</td>\n",
              "      <td>1</td>\n",
              "      <td>1.36</td>\n",
              "      <td>1</td>\n",
              "      <td>N</td>\n",
              "      <td>163</td>\n",
              "      <td>162</td>\n",
              "      <td>1</td>\n",
              "      <td>9.5</td>\n",
              "      <td>1</td>\n",
              "      <td>0.5</td>\n",
              "      <td>2.00</td>\n",
              "      <td>0.00</td>\n",
              "      <td>0.3</td>\n",
              "      <td>15.80</td>\n",
              "      <td>2.5</td>\n",
              "    </tr>\n",
              "    <tr>\n",
              "      <th>3</th>\n",
              "      <td>2</td>\n",
              "      <td>2019-10-23T16:22:44.000</td>\n",
              "      <td>2019-10-23T16:43:26.000</td>\n",
              "      <td>1</td>\n",
              "      <td>1.00</td>\n",
              "      <td>1</td>\n",
              "      <td>N</td>\n",
              "      <td>170</td>\n",
              "      <td>163</td>\n",
              "      <td>1</td>\n",
              "      <td>13.0</td>\n",
              "      <td>1</td>\n",
              "      <td>0.5</td>\n",
              "      <td>4.32</td>\n",
              "      <td>0.00</td>\n",
              "      <td>0.3</td>\n",
              "      <td>21.62</td>\n",
              "      <td>2.5</td>\n",
              "    </tr>\n",
              "    <tr>\n",
              "      <th>4</th>\n",
              "      <td>2</td>\n",
              "      <td>2019-10-23T16:45:11.000</td>\n",
              "      <td>2019-10-23T16:58:49.000</td>\n",
              "      <td>1</td>\n",
              "      <td>1.96</td>\n",
              "      <td>1</td>\n",
              "      <td>N</td>\n",
              "      <td>163</td>\n",
              "      <td>236</td>\n",
              "      <td>1</td>\n",
              "      <td>10.5</td>\n",
              "      <td>1</td>\n",
              "      <td>0.5</td>\n",
              "      <td>0.50</td>\n",
              "      <td>0.00</td>\n",
              "      <td>0.3</td>\n",
              "      <td>15.30</td>\n",
              "      <td>2.5</td>\n",
              "    </tr>\n",
              "  </tbody>\n",
              "</table>\n",
              "</div>\n",
              "    <div class=\"colab-df-buttons\">\n",
              "\n",
              "  <div class=\"colab-df-container\">\n",
              "    <button class=\"colab-df-convert\" onclick=\"convertToInteractive('df-5c98b84b-f304-4e0b-b230-8dde6065f6ed')\"\n",
              "            title=\"Convert this dataframe to an interactive table.\"\n",
              "            style=\"display:none;\">\n",
              "\n",
              "  <svg xmlns=\"http://www.w3.org/2000/svg\" height=\"24px\" viewBox=\"0 -960 960 960\">\n",
              "    <path d=\"M120-120v-720h720v720H120Zm60-500h600v-160H180v160Zm220 220h160v-160H400v160Zm0 220h160v-160H400v160ZM180-400h160v-160H180v160Zm440 0h160v-160H620v160ZM180-180h160v-160H180v160Zm440 0h160v-160H620v160Z\"/>\n",
              "  </svg>\n",
              "    </button>\n",
              "\n",
              "  <style>\n",
              "    .colab-df-container {\n",
              "      display:flex;\n",
              "      gap: 12px;\n",
              "    }\n",
              "\n",
              "    .colab-df-convert {\n",
              "      background-color: #E8F0FE;\n",
              "      border: none;\n",
              "      border-radius: 50%;\n",
              "      cursor: pointer;\n",
              "      display: none;\n",
              "      fill: #1967D2;\n",
              "      height: 32px;\n",
              "      padding: 0 0 0 0;\n",
              "      width: 32px;\n",
              "    }\n",
              "\n",
              "    .colab-df-convert:hover {\n",
              "      background-color: #E2EBFA;\n",
              "      box-shadow: 0px 1px 2px rgba(60, 64, 67, 0.3), 0px 1px 3px 1px rgba(60, 64, 67, 0.15);\n",
              "      fill: #174EA6;\n",
              "    }\n",
              "\n",
              "    .colab-df-buttons div {\n",
              "      margin-bottom: 4px;\n",
              "    }\n",
              "\n",
              "    [theme=dark] .colab-df-convert {\n",
              "      background-color: #3B4455;\n",
              "      fill: #D2E3FC;\n",
              "    }\n",
              "\n",
              "    [theme=dark] .colab-df-convert:hover {\n",
              "      background-color: #434B5C;\n",
              "      box-shadow: 0px 1px 3px 1px rgba(0, 0, 0, 0.15);\n",
              "      filter: drop-shadow(0px 1px 2px rgba(0, 0, 0, 0.3));\n",
              "      fill: #FFFFFF;\n",
              "    }\n",
              "  </style>\n",
              "\n",
              "    <script>\n",
              "      const buttonEl =\n",
              "        document.querySelector('#df-5c98b84b-f304-4e0b-b230-8dde6065f6ed button.colab-df-convert');\n",
              "      buttonEl.style.display =\n",
              "        google.colab.kernel.accessAllowed ? 'block' : 'none';\n",
              "\n",
              "      async function convertToInteractive(key) {\n",
              "        const element = document.querySelector('#df-5c98b84b-f304-4e0b-b230-8dde6065f6ed');\n",
              "        const dataTable =\n",
              "          await google.colab.kernel.invokeFunction('convertToInteractive',\n",
              "                                                    [key], {});\n",
              "        if (!dataTable) return;\n",
              "\n",
              "        const docLinkHtml = 'Like what you see? Visit the ' +\n",
              "          '<a target=\"_blank\" href=https://colab.research.google.com/notebooks/data_table.ipynb>data table notebook</a>'\n",
              "          + ' to learn more about interactive tables.';\n",
              "        element.innerHTML = '';\n",
              "        dataTable['output_type'] = 'display_data';\n",
              "        await google.colab.output.renderOutput(dataTable, element);\n",
              "        const docLink = document.createElement('div');\n",
              "        docLink.innerHTML = docLinkHtml;\n",
              "        element.appendChild(docLink);\n",
              "      }\n",
              "    </script>\n",
              "  </div>\n",
              "\n",
              "\n",
              "<div id=\"df-1311a694-aaf0-4a72-bd86-291bc2ed6ead\">\n",
              "  <button class=\"colab-df-quickchart\" onclick=\"quickchart('df-1311a694-aaf0-4a72-bd86-291bc2ed6ead')\"\n",
              "            title=\"Suggest charts\"\n",
              "            style=\"display:none;\">\n",
              "\n",
              "<svg xmlns=\"http://www.w3.org/2000/svg\" height=\"24px\"viewBox=\"0 0 24 24\"\n",
              "     width=\"24px\">\n",
              "    <g>\n",
              "        <path d=\"M19 3H5c-1.1 0-2 .9-2 2v14c0 1.1.9 2 2 2h14c1.1 0 2-.9 2-2V5c0-1.1-.9-2-2-2zM9 17H7v-7h2v7zm4 0h-2V7h2v10zm4 0h-2v-4h2v4z\"/>\n",
              "    </g>\n",
              "</svg>\n",
              "  </button>\n",
              "\n",
              "<style>\n",
              "  .colab-df-quickchart {\n",
              "      --bg-color: #E8F0FE;\n",
              "      --fill-color: #1967D2;\n",
              "      --hover-bg-color: #E2EBFA;\n",
              "      --hover-fill-color: #174EA6;\n",
              "      --disabled-fill-color: #AAA;\n",
              "      --disabled-bg-color: #DDD;\n",
              "  }\n",
              "\n",
              "  [theme=dark] .colab-df-quickchart {\n",
              "      --bg-color: #3B4455;\n",
              "      --fill-color: #D2E3FC;\n",
              "      --hover-bg-color: #434B5C;\n",
              "      --hover-fill-color: #FFFFFF;\n",
              "      --disabled-bg-color: #3B4455;\n",
              "      --disabled-fill-color: #666;\n",
              "  }\n",
              "\n",
              "  .colab-df-quickchart {\n",
              "    background-color: var(--bg-color);\n",
              "    border: none;\n",
              "    border-radius: 50%;\n",
              "    cursor: pointer;\n",
              "    display: none;\n",
              "    fill: var(--fill-color);\n",
              "    height: 32px;\n",
              "    padding: 0;\n",
              "    width: 32px;\n",
              "  }\n",
              "\n",
              "  .colab-df-quickchart:hover {\n",
              "    background-color: var(--hover-bg-color);\n",
              "    box-shadow: 0 1px 2px rgba(60, 64, 67, 0.3), 0 1px 3px 1px rgba(60, 64, 67, 0.15);\n",
              "    fill: var(--button-hover-fill-color);\n",
              "  }\n",
              "\n",
              "  .colab-df-quickchart-complete:disabled,\n",
              "  .colab-df-quickchart-complete:disabled:hover {\n",
              "    background-color: var(--disabled-bg-color);\n",
              "    fill: var(--disabled-fill-color);\n",
              "    box-shadow: none;\n",
              "  }\n",
              "\n",
              "  .colab-df-spinner {\n",
              "    border: 2px solid var(--fill-color);\n",
              "    border-color: transparent;\n",
              "    border-bottom-color: var(--fill-color);\n",
              "    animation:\n",
              "      spin 1s steps(1) infinite;\n",
              "  }\n",
              "\n",
              "  @keyframes spin {\n",
              "    0% {\n",
              "      border-color: transparent;\n",
              "      border-bottom-color: var(--fill-color);\n",
              "      border-left-color: var(--fill-color);\n",
              "    }\n",
              "    20% {\n",
              "      border-color: transparent;\n",
              "      border-left-color: var(--fill-color);\n",
              "      border-top-color: var(--fill-color);\n",
              "    }\n",
              "    30% {\n",
              "      border-color: transparent;\n",
              "      border-left-color: var(--fill-color);\n",
              "      border-top-color: var(--fill-color);\n",
              "      border-right-color: var(--fill-color);\n",
              "    }\n",
              "    40% {\n",
              "      border-color: transparent;\n",
              "      border-right-color: var(--fill-color);\n",
              "      border-top-color: var(--fill-color);\n",
              "    }\n",
              "    60% {\n",
              "      border-color: transparent;\n",
              "      border-right-color: var(--fill-color);\n",
              "    }\n",
              "    80% {\n",
              "      border-color: transparent;\n",
              "      border-right-color: var(--fill-color);\n",
              "      border-bottom-color: var(--fill-color);\n",
              "    }\n",
              "    90% {\n",
              "      border-color: transparent;\n",
              "      border-bottom-color: var(--fill-color);\n",
              "    }\n",
              "  }\n",
              "</style>\n",
              "\n",
              "  <script>\n",
              "    async function quickchart(key) {\n",
              "      const quickchartButtonEl =\n",
              "        document.querySelector('#' + key + ' button');\n",
              "      quickchartButtonEl.disabled = true;  // To prevent multiple clicks.\n",
              "      quickchartButtonEl.classList.add('colab-df-spinner');\n",
              "      try {\n",
              "        const charts = await google.colab.kernel.invokeFunction(\n",
              "            'suggestCharts', [key], {});\n",
              "      } catch (error) {\n",
              "        console.error('Error during call to suggestCharts:', error);\n",
              "      }\n",
              "      quickchartButtonEl.classList.remove('colab-df-spinner');\n",
              "      quickchartButtonEl.classList.add('colab-df-quickchart-complete');\n",
              "    }\n",
              "    (() => {\n",
              "      let quickchartButtonEl =\n",
              "        document.querySelector('#df-1311a694-aaf0-4a72-bd86-291bc2ed6ead button');\n",
              "      quickchartButtonEl.style.display =\n",
              "        google.colab.kernel.accessAllowed ? 'block' : 'none';\n",
              "    })();\n",
              "  </script>\n",
              "</div>\n",
              "\n",
              "  <div id=\"id_9f8a6165-5317-40d7-b513-8cc16c613a81\">\n",
              "    <style>\n",
              "      .colab-df-generate {\n",
              "        background-color: #E8F0FE;\n",
              "        border: none;\n",
              "        border-radius: 50%;\n",
              "        cursor: pointer;\n",
              "        display: none;\n",
              "        fill: #1967D2;\n",
              "        height: 32px;\n",
              "        padding: 0 0 0 0;\n",
              "        width: 32px;\n",
              "      }\n",
              "\n",
              "      .colab-df-generate:hover {\n",
              "        background-color: #E2EBFA;\n",
              "        box-shadow: 0px 1px 2px rgba(60, 64, 67, 0.3), 0px 1px 3px 1px rgba(60, 64, 67, 0.15);\n",
              "        fill: #174EA6;\n",
              "      }\n",
              "\n",
              "      [theme=dark] .colab-df-generate {\n",
              "        background-color: #3B4455;\n",
              "        fill: #D2E3FC;\n",
              "      }\n",
              "\n",
              "      [theme=dark] .colab-df-generate:hover {\n",
              "        background-color: #434B5C;\n",
              "        box-shadow: 0px 1px 3px 1px rgba(0, 0, 0, 0.15);\n",
              "        filter: drop-shadow(0px 1px 2px rgba(0, 0, 0, 0.3));\n",
              "        fill: #FFFFFF;\n",
              "      }\n",
              "    </style>\n",
              "    <button class=\"colab-df-generate\" onclick=\"generateWithVariable('Taxis')\"\n",
              "            title=\"Generate code using this dataframe.\"\n",
              "            style=\"display:none;\">\n",
              "\n",
              "  <svg xmlns=\"http://www.w3.org/2000/svg\" height=\"24px\"viewBox=\"0 0 24 24\"\n",
              "       width=\"24px\">\n",
              "    <path d=\"M7,19H8.4L18.45,9,17,7.55,7,17.6ZM5,21V16.75L18.45,3.32a2,2,0,0,1,2.83,0l1.4,1.43a1.91,1.91,0,0,1,.58,1.4,1.91,1.91,0,0,1-.58,1.4L9.25,21ZM18.45,9,17,7.55Zm-12,3A5.31,5.31,0,0,0,4.9,8.1,5.31,5.31,0,0,0,1,6.5,5.31,5.31,0,0,0,4.9,4.9,5.31,5.31,0,0,0,6.5,1,5.31,5.31,0,0,0,8.1,4.9,5.31,5.31,0,0,0,12,6.5,5.46,5.46,0,0,0,6.5,12Z\"/>\n",
              "  </svg>\n",
              "    </button>\n",
              "    <script>\n",
              "      (() => {\n",
              "      const buttonEl =\n",
              "        document.querySelector('#id_9f8a6165-5317-40d7-b513-8cc16c613a81 button.colab-df-generate');\n",
              "      buttonEl.style.display =\n",
              "        google.colab.kernel.accessAllowed ? 'block' : 'none';\n",
              "\n",
              "      buttonEl.onclick = () => {\n",
              "        google.colab.notebook.generateWithVariable('Taxis');\n",
              "      }\n",
              "      })();\n",
              "    </script>\n",
              "  </div>\n",
              "\n",
              "    </div>\n",
              "  </div>\n"
            ],
            "application/vnd.google.colaboratory.intrinsic+json": {
              "type": "dataframe",
              "variable_name": "Taxis",
              "summary": "{\n  \"name\": \"Taxis\",\n  \"rows\": 5,\n  \"fields\": [\n    {\n      \"column\": \"vendorid\",\n      \"properties\": {\n        \"dtype\": \"number\",\n        \"std\": 0,\n        \"min\": 1,\n        \"max\": 2,\n        \"num_unique_values\": 2,\n        \"samples\": [\n          1,\n          2\n        ],\n        \"semantic_type\": \"\",\n        \"description\": \"\"\n      }\n    },\n    {\n      \"column\": \"tpep_pickup_datetime\",\n      \"properties\": {\n        \"dtype\": \"object\",\n        \"num_unique_values\": 5,\n        \"samples\": [\n          \"2019-10-23T16:32:08.000\",\n          \"2019-10-23T16:45:11.000\"\n        ],\n        \"semantic_type\": \"\",\n        \"description\": \"\"\n      }\n    },\n    {\n      \"column\": \"tpep_dropoff_datetime\",\n      \"properties\": {\n        \"dtype\": \"object\",\n        \"num_unique_values\": 5,\n        \"samples\": [\n          \"2019-10-23T16:45:26.000\",\n          \"2019-10-23T16:58:49.000\"\n        ],\n        \"semantic_type\": \"\",\n        \"description\": \"\"\n      }\n    },\n    {\n      \"column\": \"passenger_count\",\n      \"properties\": {\n        \"dtype\": \"number\",\n        \"std\": 0,\n        \"min\": 1,\n        \"max\": 1,\n        \"num_unique_values\": 1,\n        \"samples\": [\n          1\n        ],\n        \"semantic_type\": \"\",\n        \"description\": \"\"\n      }\n    },\n    {\n      \"column\": \"trip_distance\",\n      \"properties\": {\n        \"dtype\": \"number\",\n        \"std\": 2.8706967795293186,\n        \"min\": 1.0,\n        \"max\": 7.93,\n        \"num_unique_values\": 5,\n        \"samples\": [\n          2.0\n        ],\n        \"semantic_type\": \"\",\n        \"description\": \"\"\n      }\n    },\n    {\n      \"column\": \"ratecodeid\",\n      \"properties\": {\n        \"dtype\": \"number\",\n        \"std\": 0,\n        \"min\": 1,\n        \"max\": 1,\n        \"num_unique_values\": 1,\n        \"samples\": [\n          1\n        ],\n        \"semantic_type\": \"\",\n        \"description\": \"\"\n      }\n    },\n    {\n      \"column\": \"store_and_fwd_flag\",\n      \"properties\": {\n        \"dtype\": \"category\",\n        \"num_unique_values\": 1,\n        \"samples\": [\n          \"N\"\n        ],\n        \"semantic_type\": \"\",\n        \"description\": \"\"\n      }\n    },\n    {\n      \"column\": \"pulocationid\",\n      \"properties\": {\n        \"dtype\": \"number\",\n        \"std\": 67,\n        \"min\": 11,\n        \"max\": 170,\n        \"num_unique_values\": 4,\n        \"samples\": [\n          11\n        ],\n        \"semantic_type\": \"\",\n        \"description\": \"\"\n      }\n    },\n    {\n      \"column\": \"dolocationid\",\n      \"properties\": {\n        \"dtype\": \"number\",\n        \"std\": 76,\n        \"min\": 26,\n        \"max\": 236,\n        \"num_unique_values\": 5,\n        \"samples\": [\n          26\n        ],\n        \"semantic_type\": \"\",\n        \"description\": \"\"\n      }\n    },\n    {\n      \"column\": \"payment_type\",\n      \"properties\": {\n        \"dtype\": \"number\",\n        \"std\": 0,\n        \"min\": 1,\n        \"max\": 1,\n        \"num_unique_values\": 1,\n        \"samples\": [\n          1\n        ],\n        \"semantic_type\": \"\",\n        \"description\": \"\"\n      }\n    },\n    {\n      \"column\": \"fare_amount\",\n      \"properties\": {\n        \"dtype\": \"number\",\n        \"std\": 8.429116205154607,\n        \"min\": 9.5,\n        \"max\": 29.5,\n        \"num_unique_values\": 4,\n        \"samples\": [\n          10.5\n        ],\n        \"semantic_type\": \"\",\n        \"description\": \"\"\n      }\n    },\n    {\n      \"column\": \"extra\",\n      \"properties\": {\n        \"dtype\": \"number\",\n        \"std\": 0,\n        \"min\": 1,\n        \"max\": 1,\n        \"num_unique_values\": 1,\n        \"samples\": [\n          1\n        ],\n        \"semantic_type\": \"\",\n        \"description\": \"\"\n      }\n    },\n    {\n      \"column\": \"mta_tax\",\n      \"properties\": {\n        \"dtype\": \"number\",\n        \"std\": 0.0,\n        \"min\": 0.5,\n        \"max\": 0.5,\n        \"num_unique_values\": 1,\n        \"samples\": [\n          0.5\n        ],\n        \"semantic_type\": \"\",\n        \"description\": \"\"\n      }\n    },\n    {\n      \"column\": \"tip_amount\",\n      \"properties\": {\n        \"dtype\": \"number\",\n        \"std\": 3.2705045482310524,\n        \"min\": 0.0,\n        \"max\": 7.98,\n        \"num_unique_values\": 5,\n        \"samples\": [\n          0.0\n        ],\n        \"semantic_type\": \"\",\n        \"description\": \"\"\n      }\n    },\n    {\n      \"column\": \"tolls_amount\",\n      \"properties\": {\n        \"dtype\": \"number\",\n        \"std\": 2.7369472044597427,\n        \"min\": 0.0,\n        \"max\": 6.12,\n        \"num_unique_values\": 2,\n        \"samples\": [\n          0.0\n        ],\n        \"semantic_type\": \"\",\n        \"description\": \"\"\n      }\n    },\n    {\n      \"column\": \"improvement_surcharge\",\n      \"properties\": {\n        \"dtype\": \"number\",\n        \"std\": 0.0,\n        \"min\": 0.3,\n        \"max\": 0.3,\n        \"num_unique_values\": 1,\n        \"samples\": [\n          0.3\n        ],\n        \"semantic_type\": \"\",\n        \"description\": \"\"\n      }\n    },\n    {\n      \"column\": \"total_amount\",\n      \"properties\": {\n        \"dtype\": \"number\",\n        \"std\": 14.548789640379022,\n        \"min\": 12.3,\n        \"max\": 47.9,\n        \"num_unique_values\": 5,\n        \"samples\": [\n          12.3\n        ],\n        \"semantic_type\": \"\",\n        \"description\": \"\"\n      }\n    },\n    {\n      \"column\": \"congestion_surcharge\",\n      \"properties\": {\n        \"dtype\": \"number\",\n        \"std\": 1.118033988749895,\n        \"min\": 0.0,\n        \"max\": 2.5,\n        \"num_unique_values\": 2,\n        \"samples\": [\n          0.0\n        ],\n        \"semantic_type\": \"\",\n        \"description\": \"\"\n      }\n    }\n  ]\n}"
            }
          },
          "metadata": {},
          "execution_count": 12
        }
      ],
      "source": [
        "# Complete this exercise in the workbook.ipynb file\n",
        "# Click on `Exercise 1.1` above to open the workbook.ipynb file\n",
        "\n",
        "# WARNING: if you complete the exercise here, your cell numbers\n",
        "# for the rest of the training might not match the slides\n",
        "\n",
        "import pandas as pd\n",
        "\n",
        "Taxis = pd.read_csv('../data/2019_Yellow_Taxi_Trip_Data.csv', nrows=5)\n",
        "Taxis"
      ]
    },
    {
      "cell_type": "markdown",
      "id": "230a3c7f-8907-43d1-b7e0-9fe678c04d17",
      "metadata": {
        "editable": true,
        "tags": [],
        "id": "230a3c7f-8907-43d1-b7e0-9fe678c04d17"
      },
      "source": [
        "### [Exercise 1.2](./workbook.ipynb#Exercise-1.2)\n",
        "\n",
        "##### Find the dimensions (number of rows and number of columns) in the data."
      ]
    },
    {
      "cell_type": "code",
      "execution_count": 13,
      "id": "ceab7259-c412-4f8b-b0be-e3cc801836b0",
      "metadata": {
        "editable": true,
        "tags": [],
        "id": "ceab7259-c412-4f8b-b0be-e3cc801836b0",
        "outputId": "eeebab7d-dce2-4e1f-9c69-5f4723880057",
        "colab": {
          "base_uri": "https://localhost:8080/"
        }
      },
      "outputs": [
        {
          "output_type": "execute_result",
          "data": {
            "text/plain": [
              "(5, 18)"
            ]
          },
          "metadata": {},
          "execution_count": 13
        }
      ],
      "source": [
        "# Complete this exercise in the workbook.ipynb file\n",
        "# Click on `Exercise 1.2` above to open the workbook.ipynb file\n",
        "\n",
        "# WARNING: if you complete the exercise here, your cell numbers\n",
        "# for the rest of the training might not match the slides\n",
        "\n",
        "import pandas as pd\n",
        "\n",
        "Taxi = pd.read_csv('../data/2019_Yellow_Taxi_Trip_Data.csv')\n",
        "\n",
        "Taxi.shape"
      ]
    },
    {
      "cell_type": "markdown",
      "id": "0d63f1c9-2b23-4585-8df0-358159b26801",
      "metadata": {
        "editable": true,
        "tags": [],
        "id": "0d63f1c9-2b23-4585-8df0-358159b26801"
      },
      "source": [
        "## Extracting subsets\n",
        "\n",
        "A crucial part of working with DataFrames is extracting subsets of the data: finding rows that meet a certain set of criteria, isolating columns/rows of interest, etc. After narrowing down our data, we are closer to discovering insights. This section will be the backbone of many analysis tasks."
      ]
    },
    {
      "cell_type": "markdown",
      "id": "9c1a3793-29f7-4c0e-90d3-230475c611f7",
      "metadata": {
        "editable": true,
        "tags": [],
        "id": "9c1a3793-29f7-4c0e-90d3-230475c611f7"
      },
      "source": [
        "#### Selecting columns\n",
        "\n",
        "We can select columns as attributes if their names would be valid Python variables:"
      ]
    },
    {
      "cell_type": "code",
      "execution_count": null,
      "id": "2a084a5d-3d1c-4bef-9704-7c7ec69a73b1",
      "metadata": {
        "editable": true,
        "tags": [],
        "id": "2a084a5d-3d1c-4bef-9704-7c7ec69a73b1",
        "outputId": "10c5c342-d838-40c0-9278-ff86711bdc88"
      },
      "outputs": [
        {
          "data": {
            "text/plain": [
              "0            Aachen\n",
              "1            Aarhus\n",
              "2              Abee\n",
              "3          Acapulco\n",
              "4           Achiras\n",
              "            ...    \n",
              "45711    Zillah 002\n",
              "45712        Zinder\n",
              "45713          Zlin\n",
              "45714     Zubkovsky\n",
              "45715    Zulu Queen\n",
              "Name: name, Length: 45716, dtype: object"
            ]
          },
          "execution_count": 16,
          "metadata": {},
          "output_type": "execute_result"
        }
      ],
      "source": [
        "meteorites.name"
      ]
    },
    {
      "cell_type": "markdown",
      "id": "ac335459-7a87-443f-b349-7a7b826a5ffa",
      "metadata": {
        "editable": true,
        "tags": [],
        "id": "ac335459-7a87-443f-b349-7a7b826a5ffa"
      },
      "source": [
        "If they aren't, we have to select them as keys. However, we can select multiple columns at once this way:"
      ]
    },
    {
      "cell_type": "code",
      "execution_count": null,
      "id": "df5c98ef-0227-44e4-8038-de151a9d8717",
      "metadata": {
        "editable": true,
        "tags": [],
        "id": "df5c98ef-0227-44e4-8038-de151a9d8717",
        "outputId": "538bade6-2577-48b1-b138-f035c96d03bd"
      },
      "outputs": [
        {
          "data": {
            "text/html": [
              "<div>\n",
              "<style scoped>\n",
              "    .dataframe tbody tr th:only-of-type {\n",
              "        vertical-align: middle;\n",
              "    }\n",
              "\n",
              "    .dataframe tbody tr th {\n",
              "        vertical-align: top;\n",
              "    }\n",
              "\n",
              "    .dataframe thead th {\n",
              "        text-align: right;\n",
              "    }\n",
              "</style>\n",
              "<table border=\"1\" class=\"dataframe\">\n",
              "  <thead>\n",
              "    <tr style=\"text-align: right;\">\n",
              "      <th></th>\n",
              "      <th>name</th>\n",
              "      <th>mass (g)</th>\n",
              "    </tr>\n",
              "  </thead>\n",
              "  <tbody>\n",
              "    <tr>\n",
              "      <th>0</th>\n",
              "      <td>Aachen</td>\n",
              "      <td>21.0</td>\n",
              "    </tr>\n",
              "    <tr>\n",
              "      <th>1</th>\n",
              "      <td>Aarhus</td>\n",
              "      <td>720.0</td>\n",
              "    </tr>\n",
              "    <tr>\n",
              "      <th>2</th>\n",
              "      <td>Abee</td>\n",
              "      <td>107000.0</td>\n",
              "    </tr>\n",
              "    <tr>\n",
              "      <th>3</th>\n",
              "      <td>Acapulco</td>\n",
              "      <td>1914.0</td>\n",
              "    </tr>\n",
              "    <tr>\n",
              "      <th>4</th>\n",
              "      <td>Achiras</td>\n",
              "      <td>780.0</td>\n",
              "    </tr>\n",
              "    <tr>\n",
              "      <th>...</th>\n",
              "      <td>...</td>\n",
              "      <td>...</td>\n",
              "    </tr>\n",
              "    <tr>\n",
              "      <th>45711</th>\n",
              "      <td>Zillah 002</td>\n",
              "      <td>172.0</td>\n",
              "    </tr>\n",
              "    <tr>\n",
              "      <th>45712</th>\n",
              "      <td>Zinder</td>\n",
              "      <td>46.0</td>\n",
              "    </tr>\n",
              "    <tr>\n",
              "      <th>45713</th>\n",
              "      <td>Zlin</td>\n",
              "      <td>3.3</td>\n",
              "    </tr>\n",
              "    <tr>\n",
              "      <th>45714</th>\n",
              "      <td>Zubkovsky</td>\n",
              "      <td>2167.0</td>\n",
              "    </tr>\n",
              "    <tr>\n",
              "      <th>45715</th>\n",
              "      <td>Zulu Queen</td>\n",
              "      <td>200.0</td>\n",
              "    </tr>\n",
              "  </tbody>\n",
              "</table>\n",
              "<p>45716 rows × 2 columns</p>\n",
              "</div>"
            ],
            "text/plain": [
              "             name  mass (g)\n",
              "0          Aachen      21.0\n",
              "1          Aarhus     720.0\n",
              "2            Abee  107000.0\n",
              "3        Acapulco    1914.0\n",
              "4         Achiras     780.0\n",
              "...           ...       ...\n",
              "45711  Zillah 002     172.0\n",
              "45712      Zinder      46.0\n",
              "45713        Zlin       3.3\n",
              "45714   Zubkovsky    2167.0\n",
              "45715  Zulu Queen     200.0\n",
              "\n",
              "[45716 rows x 2 columns]"
            ]
          },
          "execution_count": 17,
          "metadata": {},
          "output_type": "execute_result"
        }
      ],
      "source": [
        "meteorites[['name', 'mass (g)']]"
      ]
    },
    {
      "cell_type": "markdown",
      "id": "c3c390e8-1199-4cfe-a8f9-6998ddfa9f14",
      "metadata": {
        "editable": true,
        "tags": [],
        "id": "c3c390e8-1199-4cfe-a8f9-6998ddfa9f14"
      },
      "source": [
        "#### Selecting rows"
      ]
    },
    {
      "cell_type": "code",
      "execution_count": null,
      "id": "c1a63e64-8a01-4762-b1c2-79b2f1068ea9",
      "metadata": {
        "editable": true,
        "tags": [],
        "id": "c1a63e64-8a01-4762-b1c2-79b2f1068ea9",
        "outputId": "074d1165-01d5-4846-c683-5393163f6044"
      },
      "outputs": [
        {
          "data": {
            "text/html": [
              "<div>\n",
              "<style scoped>\n",
              "    .dataframe tbody tr th:only-of-type {\n",
              "        vertical-align: middle;\n",
              "    }\n",
              "\n",
              "    .dataframe tbody tr th {\n",
              "        vertical-align: top;\n",
              "    }\n",
              "\n",
              "    .dataframe thead th {\n",
              "        text-align: right;\n",
              "    }\n",
              "</style>\n",
              "<table border=\"1\" class=\"dataframe\">\n",
              "  <thead>\n",
              "    <tr style=\"text-align: right;\">\n",
              "      <th></th>\n",
              "      <th>name</th>\n",
              "      <th>id</th>\n",
              "      <th>nametype</th>\n",
              "      <th>recclass</th>\n",
              "      <th>mass (g)</th>\n",
              "      <th>fall</th>\n",
              "      <th>year</th>\n",
              "      <th>reclat</th>\n",
              "      <th>reclong</th>\n",
              "      <th>GeoLocation</th>\n",
              "    </tr>\n",
              "  </thead>\n",
              "  <tbody>\n",
              "    <tr>\n",
              "      <th>100</th>\n",
              "      <td>Benton</td>\n",
              "      <td>5026</td>\n",
              "      <td>Valid</td>\n",
              "      <td>LL6</td>\n",
              "      <td>2840.0</td>\n",
              "      <td>Fell</td>\n",
              "      <td>01/01/1949 12:00:00 AM</td>\n",
              "      <td>45.95000</td>\n",
              "      <td>-67.55000</td>\n",
              "      <td>(45.95, -67.55)</td>\n",
              "    </tr>\n",
              "    <tr>\n",
              "      <th>101</th>\n",
              "      <td>Berduc</td>\n",
              "      <td>48975</td>\n",
              "      <td>Valid</td>\n",
              "      <td>L6</td>\n",
              "      <td>270.0</td>\n",
              "      <td>Fell</td>\n",
              "      <td>01/01/2008 12:00:00 AM</td>\n",
              "      <td>-31.91000</td>\n",
              "      <td>-58.32833</td>\n",
              "      <td>(-31.91, -58.32833)</td>\n",
              "    </tr>\n",
              "    <tr>\n",
              "      <th>102</th>\n",
              "      <td>Béréba</td>\n",
              "      <td>5028</td>\n",
              "      <td>Valid</td>\n",
              "      <td>Eucrite-mmict</td>\n",
              "      <td>18000.0</td>\n",
              "      <td>Fell</td>\n",
              "      <td>01/01/1924 12:00:00 AM</td>\n",
              "      <td>11.65000</td>\n",
              "      <td>-3.65000</td>\n",
              "      <td>(11.65, -3.65)</td>\n",
              "    </tr>\n",
              "    <tr>\n",
              "      <th>103</th>\n",
              "      <td>Berlanguillas</td>\n",
              "      <td>5029</td>\n",
              "      <td>Valid</td>\n",
              "      <td>L6</td>\n",
              "      <td>1440.0</td>\n",
              "      <td>Fell</td>\n",
              "      <td>01/01/1811 12:00:00 AM</td>\n",
              "      <td>41.68333</td>\n",
              "      <td>-3.80000</td>\n",
              "      <td>(41.68333, -3.8)</td>\n",
              "    </tr>\n",
              "  </tbody>\n",
              "</table>\n",
              "</div>"
            ],
            "text/plain": [
              "              name     id nametype       recclass  mass (g)  fall  \\\n",
              "100         Benton   5026    Valid            LL6    2840.0  Fell   \n",
              "101         Berduc  48975    Valid             L6     270.0  Fell   \n",
              "102         Béréba   5028    Valid  Eucrite-mmict   18000.0  Fell   \n",
              "103  Berlanguillas   5029    Valid             L6    1440.0  Fell   \n",
              "\n",
              "                       year    reclat   reclong          GeoLocation  \n",
              "100  01/01/1949 12:00:00 AM  45.95000 -67.55000      (45.95, -67.55)  \n",
              "101  01/01/2008 12:00:00 AM -31.91000 -58.32833  (-31.91, -58.32833)  \n",
              "102  01/01/1924 12:00:00 AM  11.65000  -3.65000       (11.65, -3.65)  \n",
              "103  01/01/1811 12:00:00 AM  41.68333  -3.80000     (41.68333, -3.8)  "
            ]
          },
          "execution_count": 18,
          "metadata": {},
          "output_type": "execute_result"
        }
      ],
      "source": [
        "meteorites[100:104]"
      ]
    },
    {
      "cell_type": "markdown",
      "id": "84a61a58-50ca-4f10-ad26-36db5022ee9f",
      "metadata": {
        "editable": true,
        "tags": [],
        "id": "84a61a58-50ca-4f10-ad26-36db5022ee9f"
      },
      "source": [
        "#### Indexing\n",
        "\n",
        "We use `iloc[]` to select rows and columns by their position:"
      ]
    },
    {
      "cell_type": "code",
      "execution_count": null,
      "id": "50087ab8-2a1d-4312-a7c7-791bc7c35e9b",
      "metadata": {
        "editable": true,
        "tags": [],
        "id": "50087ab8-2a1d-4312-a7c7-791bc7c35e9b",
        "outputId": "d4e36afc-caff-4f3a-865b-723e5b7d0133"
      },
      "outputs": [
        {
          "data": {
            "text/html": [
              "<div>\n",
              "<style scoped>\n",
              "    .dataframe tbody tr th:only-of-type {\n",
              "        vertical-align: middle;\n",
              "    }\n",
              "\n",
              "    .dataframe tbody tr th {\n",
              "        vertical-align: top;\n",
              "    }\n",
              "\n",
              "    .dataframe thead th {\n",
              "        text-align: right;\n",
              "    }\n",
              "</style>\n",
              "<table border=\"1\" class=\"dataframe\">\n",
              "  <thead>\n",
              "    <tr style=\"text-align: right;\">\n",
              "      <th></th>\n",
              "      <th>name</th>\n",
              "      <th>recclass</th>\n",
              "      <th>mass (g)</th>\n",
              "      <th>year</th>\n",
              "    </tr>\n",
              "  </thead>\n",
              "  <tbody>\n",
              "    <tr>\n",
              "      <th>100</th>\n",
              "      <td>Benton</td>\n",
              "      <td>LL6</td>\n",
              "      <td>2840.0</td>\n",
              "      <td>01/01/1949 12:00:00 AM</td>\n",
              "    </tr>\n",
              "    <tr>\n",
              "      <th>101</th>\n",
              "      <td>Berduc</td>\n",
              "      <td>L6</td>\n",
              "      <td>270.0</td>\n",
              "      <td>01/01/2008 12:00:00 AM</td>\n",
              "    </tr>\n",
              "    <tr>\n",
              "      <th>102</th>\n",
              "      <td>Béréba</td>\n",
              "      <td>Eucrite-mmict</td>\n",
              "      <td>18000.0</td>\n",
              "      <td>01/01/1924 12:00:00 AM</td>\n",
              "    </tr>\n",
              "    <tr>\n",
              "      <th>103</th>\n",
              "      <td>Berlanguillas</td>\n",
              "      <td>L6</td>\n",
              "      <td>1440.0</td>\n",
              "      <td>01/01/1811 12:00:00 AM</td>\n",
              "    </tr>\n",
              "  </tbody>\n",
              "</table>\n",
              "</div>"
            ],
            "text/plain": [
              "              name       recclass  mass (g)                    year\n",
              "100         Benton            LL6    2840.0  01/01/1949 12:00:00 AM\n",
              "101         Berduc             L6     270.0  01/01/2008 12:00:00 AM\n",
              "102         Béréba  Eucrite-mmict   18000.0  01/01/1924 12:00:00 AM\n",
              "103  Berlanguillas             L6    1440.0  01/01/1811 12:00:00 AM"
            ]
          },
          "execution_count": 19,
          "metadata": {},
          "output_type": "execute_result"
        }
      ],
      "source": [
        "meteorites.iloc[100:104, [0, 3, 4, 6]]"
      ]
    },
    {
      "cell_type": "markdown",
      "id": "1798f9cc-8f05-4147-a351-cb3f9f6b765c",
      "metadata": {
        "editable": true,
        "tags": [],
        "id": "1798f9cc-8f05-4147-a351-cb3f9f6b765c"
      },
      "source": [
        "We use `loc[]` to select by name:"
      ]
    },
    {
      "cell_type": "code",
      "execution_count": null,
      "id": "eb7a1cdb-e0cc-4c58-ae96-1dabe4d5fad7",
      "metadata": {
        "editable": true,
        "tags": [],
        "id": "eb7a1cdb-e0cc-4c58-ae96-1dabe4d5fad7",
        "outputId": "0f71b14a-bda9-49ae-ee26-31072d1e188c"
      },
      "outputs": [
        {
          "data": {
            "text/html": [
              "<div>\n",
              "<style scoped>\n",
              "    .dataframe tbody tr th:only-of-type {\n",
              "        vertical-align: middle;\n",
              "    }\n",
              "\n",
              "    .dataframe tbody tr th {\n",
              "        vertical-align: top;\n",
              "    }\n",
              "\n",
              "    .dataframe thead th {\n",
              "        text-align: right;\n",
              "    }\n",
              "</style>\n",
              "<table border=\"1\" class=\"dataframe\">\n",
              "  <thead>\n",
              "    <tr style=\"text-align: right;\">\n",
              "      <th></th>\n",
              "      <th>mass (g)</th>\n",
              "      <th>fall</th>\n",
              "      <th>year</th>\n",
              "    </tr>\n",
              "  </thead>\n",
              "  <tbody>\n",
              "    <tr>\n",
              "      <th>100</th>\n",
              "      <td>2840.0</td>\n",
              "      <td>Fell</td>\n",
              "      <td>01/01/1949 12:00:00 AM</td>\n",
              "    </tr>\n",
              "    <tr>\n",
              "      <th>101</th>\n",
              "      <td>270.0</td>\n",
              "      <td>Fell</td>\n",
              "      <td>01/01/2008 12:00:00 AM</td>\n",
              "    </tr>\n",
              "    <tr>\n",
              "      <th>102</th>\n",
              "      <td>18000.0</td>\n",
              "      <td>Fell</td>\n",
              "      <td>01/01/1924 12:00:00 AM</td>\n",
              "    </tr>\n",
              "    <tr>\n",
              "      <th>103</th>\n",
              "      <td>1440.0</td>\n",
              "      <td>Fell</td>\n",
              "      <td>01/01/1811 12:00:00 AM</td>\n",
              "    </tr>\n",
              "    <tr>\n",
              "      <th>104</th>\n",
              "      <td>960.0</td>\n",
              "      <td>Fell</td>\n",
              "      <td>01/01/2004 12:00:00 AM</td>\n",
              "    </tr>\n",
              "  </tbody>\n",
              "</table>\n",
              "</div>"
            ],
            "text/plain": [
              "     mass (g)  fall                    year\n",
              "100    2840.0  Fell  01/01/1949 12:00:00 AM\n",
              "101     270.0  Fell  01/01/2008 12:00:00 AM\n",
              "102   18000.0  Fell  01/01/1924 12:00:00 AM\n",
              "103    1440.0  Fell  01/01/1811 12:00:00 AM\n",
              "104     960.0  Fell  01/01/2004 12:00:00 AM"
            ]
          },
          "execution_count": 20,
          "metadata": {},
          "output_type": "execute_result"
        }
      ],
      "source": [
        "meteorites.loc[100:104, 'mass (g)':'year']"
      ]
    },
    {
      "cell_type": "markdown",
      "id": "d601db18-6091-4234-916c-f5d5e6f8fd86",
      "metadata": {
        "editable": true,
        "tags": [],
        "id": "d601db18-6091-4234-916c-f5d5e6f8fd86"
      },
      "source": [
        "#### Filtering with Boolean masks\n",
        "\n",
        "A **Boolean mask** is a array-like structure of Boolean values &ndash; it's a way to specify which rows/columns we want to select (`True`) and which we don't (`False`)."
      ]
    },
    {
      "cell_type": "markdown",
      "id": "753004e2-c9ef-4dbf-86cc-fd5d48babeb2",
      "metadata": {
        "editable": true,
        "tags": [],
        "id": "753004e2-c9ef-4dbf-86cc-fd5d48babeb2"
      },
      "source": [
        "Here's an example of a Boolean mask for meteorites weighing more than 50 grams that were found on Earth (i.e., they were not observed falling):"
      ]
    },
    {
      "cell_type": "code",
      "execution_count": null,
      "id": "1f59f4cb-9f82-42ef-8c5f-c42d0f48447d",
      "metadata": {
        "editable": true,
        "tags": [],
        "id": "1f59f4cb-9f82-42ef-8c5f-c42d0f48447d",
        "outputId": "49213e68-b410-4c88-cd3d-4c41f47cdd9d"
      },
      "outputs": [
        {
          "data": {
            "text/plain": [
              "0        False\n",
              "1        False\n",
              "2        False\n",
              "3        False\n",
              "4        False\n",
              "         ...  \n",
              "45711     True\n",
              "45712    False\n",
              "45713    False\n",
              "45714     True\n",
              "45715     True\n",
              "Length: 45716, dtype: bool"
            ]
          },
          "execution_count": 21,
          "metadata": {},
          "output_type": "execute_result"
        }
      ],
      "source": [
        "(meteorites['mass (g)'] > 50) & (meteorites.fall == 'Found')"
      ]
    },
    {
      "cell_type": "markdown",
      "id": "26a1b2dd-08fc-40bc-a260-6445edc31382",
      "metadata": {
        "editable": true,
        "tags": [],
        "id": "26a1b2dd-08fc-40bc-a260-6445edc31382"
      },
      "source": [
        "**Important**: Take note of the syntax here. We surround each condition with parentheses, and we use bitwise operators (`&`, `|`, `~`) instead of logical operators (`and`, `or`, `not`)."
      ]
    },
    {
      "cell_type": "markdown",
      "id": "0086f863-cd77-4e0d-bea7-364b18d4ed6a",
      "metadata": {
        "editable": true,
        "tags": [],
        "id": "0086f863-cd77-4e0d-bea7-364b18d4ed6a"
      },
      "source": [
        "We can use a Boolean mask to select the subset of meteorites weighing more than 1 million grams (1,000 kilograms or roughly 2,205 pounds) that were observed falling:"
      ]
    },
    {
      "cell_type": "code",
      "execution_count": null,
      "id": "46727a7f-d5e7-4de9-b69a-762413de9567",
      "metadata": {
        "editable": true,
        "tags": [],
        "id": "46727a7f-d5e7-4de9-b69a-762413de9567",
        "outputId": "9aca0685-06fc-4a7f-aa1f-f5c59c765b77"
      },
      "outputs": [
        {
          "data": {
            "text/html": [
              "<div>\n",
              "<style scoped>\n",
              "    .dataframe tbody tr th:only-of-type {\n",
              "        vertical-align: middle;\n",
              "    }\n",
              "\n",
              "    .dataframe tbody tr th {\n",
              "        vertical-align: top;\n",
              "    }\n",
              "\n",
              "    .dataframe thead th {\n",
              "        text-align: right;\n",
              "    }\n",
              "</style>\n",
              "<table border=\"1\" class=\"dataframe\">\n",
              "  <thead>\n",
              "    <tr style=\"text-align: right;\">\n",
              "      <th></th>\n",
              "      <th>name</th>\n",
              "      <th>id</th>\n",
              "      <th>nametype</th>\n",
              "      <th>recclass</th>\n",
              "      <th>mass (g)</th>\n",
              "      <th>fall</th>\n",
              "      <th>year</th>\n",
              "      <th>reclat</th>\n",
              "      <th>reclong</th>\n",
              "      <th>GeoLocation</th>\n",
              "    </tr>\n",
              "  </thead>\n",
              "  <tbody>\n",
              "    <tr>\n",
              "      <th>29</th>\n",
              "      <td>Allende</td>\n",
              "      <td>2278</td>\n",
              "      <td>Valid</td>\n",
              "      <td>CV3</td>\n",
              "      <td>2000000.0</td>\n",
              "      <td>Fell</td>\n",
              "      <td>01/01/1969 12:00:00 AM</td>\n",
              "      <td>26.96667</td>\n",
              "      <td>-105.31667</td>\n",
              "      <td>(26.96667, -105.31667)</td>\n",
              "    </tr>\n",
              "    <tr>\n",
              "      <th>419</th>\n",
              "      <td>Jilin</td>\n",
              "      <td>12171</td>\n",
              "      <td>Valid</td>\n",
              "      <td>H5</td>\n",
              "      <td>4000000.0</td>\n",
              "      <td>Fell</td>\n",
              "      <td>01/01/1976 12:00:00 AM</td>\n",
              "      <td>44.05000</td>\n",
              "      <td>126.16667</td>\n",
              "      <td>(44.05, 126.16667)</td>\n",
              "    </tr>\n",
              "    <tr>\n",
              "      <th>506</th>\n",
              "      <td>Kunya-Urgench</td>\n",
              "      <td>12379</td>\n",
              "      <td>Valid</td>\n",
              "      <td>H5</td>\n",
              "      <td>1100000.0</td>\n",
              "      <td>Fell</td>\n",
              "      <td>01/01/1998 12:00:00 AM</td>\n",
              "      <td>42.25000</td>\n",
              "      <td>59.20000</td>\n",
              "      <td>(42.25, 59.2)</td>\n",
              "    </tr>\n",
              "    <tr>\n",
              "      <th>707</th>\n",
              "      <td>Norton County</td>\n",
              "      <td>17922</td>\n",
              "      <td>Valid</td>\n",
              "      <td>Aubrite</td>\n",
              "      <td>1100000.0</td>\n",
              "      <td>Fell</td>\n",
              "      <td>01/01/1948 12:00:00 AM</td>\n",
              "      <td>39.68333</td>\n",
              "      <td>-99.86667</td>\n",
              "      <td>(39.68333, -99.86667)</td>\n",
              "    </tr>\n",
              "    <tr>\n",
              "      <th>920</th>\n",
              "      <td>Sikhote-Alin</td>\n",
              "      <td>23593</td>\n",
              "      <td>Valid</td>\n",
              "      <td>Iron, IIAB</td>\n",
              "      <td>23000000.0</td>\n",
              "      <td>Fell</td>\n",
              "      <td>01/01/1947 12:00:00 AM</td>\n",
              "      <td>46.16000</td>\n",
              "      <td>134.65333</td>\n",
              "      <td>(46.16, 134.65333)</td>\n",
              "    </tr>\n",
              "  </tbody>\n",
              "</table>\n",
              "</div>"
            ],
            "text/plain": [
              "              name     id nametype    recclass    mass (g)  fall  \\\n",
              "29         Allende   2278    Valid         CV3   2000000.0  Fell   \n",
              "419          Jilin  12171    Valid          H5   4000000.0  Fell   \n",
              "506  Kunya-Urgench  12379    Valid          H5   1100000.0  Fell   \n",
              "707  Norton County  17922    Valid     Aubrite   1100000.0  Fell   \n",
              "920   Sikhote-Alin  23593    Valid  Iron, IIAB  23000000.0  Fell   \n",
              "\n",
              "                       year    reclat    reclong             GeoLocation  \n",
              "29   01/01/1969 12:00:00 AM  26.96667 -105.31667  (26.96667, -105.31667)  \n",
              "419  01/01/1976 12:00:00 AM  44.05000  126.16667      (44.05, 126.16667)  \n",
              "506  01/01/1998 12:00:00 AM  42.25000   59.20000           (42.25, 59.2)  \n",
              "707  01/01/1948 12:00:00 AM  39.68333  -99.86667   (39.68333, -99.86667)  \n",
              "920  01/01/1947 12:00:00 AM  46.16000  134.65333      (46.16, 134.65333)  "
            ]
          },
          "execution_count": 22,
          "metadata": {},
          "output_type": "execute_result"
        }
      ],
      "source": [
        "meteorites[(meteorites['mass (g)'] > 1e6) & (meteorites.fall == 'Fell')]"
      ]
    },
    {
      "cell_type": "markdown",
      "id": "055cc350-e9e0-42b2-839b-4ad45312e172",
      "metadata": {
        "editable": true,
        "tags": [],
        "id": "055cc350-e9e0-42b2-839b-4ad45312e172"
      },
      "source": [
        "*Tip: Boolean masks can be used with `loc[]` and `iloc[]`.*"
      ]
    },
    {
      "cell_type": "markdown",
      "id": "b4e791ea-92e5-4f30-974c-63b9195af1c2",
      "metadata": {
        "editable": true,
        "tags": [],
        "id": "b4e791ea-92e5-4f30-974c-63b9195af1c2"
      },
      "source": [
        "An alternative to this is the `query()` method:"
      ]
    },
    {
      "cell_type": "code",
      "execution_count": null,
      "id": "bde8231a-3f4a-43e1-a90e-051a125a00af",
      "metadata": {
        "editable": true,
        "tags": [],
        "id": "bde8231a-3f4a-43e1-a90e-051a125a00af",
        "outputId": "61915a54-e26d-4820-929f-0bf860b7785b"
      },
      "outputs": [
        {
          "data": {
            "text/html": [
              "<div>\n",
              "<style scoped>\n",
              "    .dataframe tbody tr th:only-of-type {\n",
              "        vertical-align: middle;\n",
              "    }\n",
              "\n",
              "    .dataframe tbody tr th {\n",
              "        vertical-align: top;\n",
              "    }\n",
              "\n",
              "    .dataframe thead th {\n",
              "        text-align: right;\n",
              "    }\n",
              "</style>\n",
              "<table border=\"1\" class=\"dataframe\">\n",
              "  <thead>\n",
              "    <tr style=\"text-align: right;\">\n",
              "      <th></th>\n",
              "      <th>name</th>\n",
              "      <th>id</th>\n",
              "      <th>nametype</th>\n",
              "      <th>recclass</th>\n",
              "      <th>mass (g)</th>\n",
              "      <th>fall</th>\n",
              "      <th>year</th>\n",
              "      <th>reclat</th>\n",
              "      <th>reclong</th>\n",
              "      <th>GeoLocation</th>\n",
              "    </tr>\n",
              "  </thead>\n",
              "  <tbody>\n",
              "    <tr>\n",
              "      <th>29</th>\n",
              "      <td>Allende</td>\n",
              "      <td>2278</td>\n",
              "      <td>Valid</td>\n",
              "      <td>CV3</td>\n",
              "      <td>2000000.0</td>\n",
              "      <td>Fell</td>\n",
              "      <td>01/01/1969 12:00:00 AM</td>\n",
              "      <td>26.96667</td>\n",
              "      <td>-105.31667</td>\n",
              "      <td>(26.96667, -105.31667)</td>\n",
              "    </tr>\n",
              "    <tr>\n",
              "      <th>419</th>\n",
              "      <td>Jilin</td>\n",
              "      <td>12171</td>\n",
              "      <td>Valid</td>\n",
              "      <td>H5</td>\n",
              "      <td>4000000.0</td>\n",
              "      <td>Fell</td>\n",
              "      <td>01/01/1976 12:00:00 AM</td>\n",
              "      <td>44.05000</td>\n",
              "      <td>126.16667</td>\n",
              "      <td>(44.05, 126.16667)</td>\n",
              "    </tr>\n",
              "    <tr>\n",
              "      <th>506</th>\n",
              "      <td>Kunya-Urgench</td>\n",
              "      <td>12379</td>\n",
              "      <td>Valid</td>\n",
              "      <td>H5</td>\n",
              "      <td>1100000.0</td>\n",
              "      <td>Fell</td>\n",
              "      <td>01/01/1998 12:00:00 AM</td>\n",
              "      <td>42.25000</td>\n",
              "      <td>59.20000</td>\n",
              "      <td>(42.25, 59.2)</td>\n",
              "    </tr>\n",
              "    <tr>\n",
              "      <th>707</th>\n",
              "      <td>Norton County</td>\n",
              "      <td>17922</td>\n",
              "      <td>Valid</td>\n",
              "      <td>Aubrite</td>\n",
              "      <td>1100000.0</td>\n",
              "      <td>Fell</td>\n",
              "      <td>01/01/1948 12:00:00 AM</td>\n",
              "      <td>39.68333</td>\n",
              "      <td>-99.86667</td>\n",
              "      <td>(39.68333, -99.86667)</td>\n",
              "    </tr>\n",
              "    <tr>\n",
              "      <th>920</th>\n",
              "      <td>Sikhote-Alin</td>\n",
              "      <td>23593</td>\n",
              "      <td>Valid</td>\n",
              "      <td>Iron, IIAB</td>\n",
              "      <td>23000000.0</td>\n",
              "      <td>Fell</td>\n",
              "      <td>01/01/1947 12:00:00 AM</td>\n",
              "      <td>46.16000</td>\n",
              "      <td>134.65333</td>\n",
              "      <td>(46.16, 134.65333)</td>\n",
              "    </tr>\n",
              "  </tbody>\n",
              "</table>\n",
              "</div>"
            ],
            "text/plain": [
              "              name     id nametype    recclass    mass (g)  fall  \\\n",
              "29         Allende   2278    Valid         CV3   2000000.0  Fell   \n",
              "419          Jilin  12171    Valid          H5   4000000.0  Fell   \n",
              "506  Kunya-Urgench  12379    Valid          H5   1100000.0  Fell   \n",
              "707  Norton County  17922    Valid     Aubrite   1100000.0  Fell   \n",
              "920   Sikhote-Alin  23593    Valid  Iron, IIAB  23000000.0  Fell   \n",
              "\n",
              "                       year    reclat    reclong             GeoLocation  \n",
              "29   01/01/1969 12:00:00 AM  26.96667 -105.31667  (26.96667, -105.31667)  \n",
              "419  01/01/1976 12:00:00 AM  44.05000  126.16667      (44.05, 126.16667)  \n",
              "506  01/01/1998 12:00:00 AM  42.25000   59.20000           (42.25, 59.2)  \n",
              "707  01/01/1948 12:00:00 AM  39.68333  -99.86667   (39.68333, -99.86667)  \n",
              "920  01/01/1947 12:00:00 AM  46.16000  134.65333      (46.16, 134.65333)  "
            ]
          },
          "execution_count": 23,
          "metadata": {},
          "output_type": "execute_result"
        }
      ],
      "source": [
        "meteorites.query(\"`mass (g)` > 1e6 and fall == 'Fell'\")"
      ]
    },
    {
      "cell_type": "markdown",
      "id": "869e853c-9073-49fb-beb6-05a84c882d54",
      "metadata": {
        "editable": true,
        "tags": [],
        "id": "869e853c-9073-49fb-beb6-05a84c882d54"
      },
      "source": [
        "*Tip: Here, we can use both logical operators and bitwise operators.*"
      ]
    },
    {
      "cell_type": "markdown",
      "id": "619cd5be-db0e-4ce6-99fb-1ebe6328e693",
      "metadata": {
        "editable": true,
        "tags": [],
        "id": "619cd5be-db0e-4ce6-99fb-1ebe6328e693"
      },
      "source": [
        "## Calculating summary statistics\n",
        "\n",
        "In the next section of this workshop, we will discuss data cleaning for a more meaningful analysis of our datasets; however, we can already extract some interesting insights from the `meteorites` data by calculating summary statistics."
      ]
    },
    {
      "cell_type": "markdown",
      "id": "2e45f672-cb84-4718-a9f1-6e7abf16252e",
      "metadata": {
        "editable": true,
        "tags": [],
        "id": "2e45f672-cb84-4718-a9f1-6e7abf16252e"
      },
      "source": [
        "#### How many of the meteorites were found versus observed falling?"
      ]
    },
    {
      "cell_type": "code",
      "execution_count": null,
      "id": "01433b12-c3f2-4680-a654-bb20bc8c2157",
      "metadata": {
        "editable": true,
        "tags": [],
        "id": "01433b12-c3f2-4680-a654-bb20bc8c2157",
        "outputId": "e7d2e978-2b4c-4e4b-883b-1e8815e52c0c"
      },
      "outputs": [
        {
          "data": {
            "text/plain": [
              "fall\n",
              "Found    44609\n",
              "Fell      1107\n",
              "Name: count, dtype: int64"
            ]
          },
          "execution_count": 24,
          "metadata": {},
          "output_type": "execute_result"
        }
      ],
      "source": [
        "meteorites.fall.value_counts()"
      ]
    },
    {
      "cell_type": "markdown",
      "id": "8bb359ac-5f70-4b67-ac45-93641d76c516",
      "metadata": {
        "editable": true,
        "tags": [],
        "id": "8bb359ac-5f70-4b67-ac45-93641d76c516"
      },
      "source": [
        "[The Meteoritical Society states](https://www.lpi.usra.edu/meteor/metbull.php?code=56147) that \"relict meteorites are composed mostly of terrestrial minerals, but are thought to have once been meteorites.\" What proportion of the data are relict meteorites? Let's verify these were all found versus observed falling:"
      ]
    },
    {
      "cell_type": "code",
      "execution_count": null,
      "id": "5e636ee2-0523-43bd-bd11-89424268868b",
      "metadata": {
        "editable": true,
        "tags": [],
        "id": "5e636ee2-0523-43bd-bd11-89424268868b",
        "outputId": "4dd46667-0c31-4d92-97e5-2972d9c23a94"
      },
      "outputs": [
        {
          "data": {
            "text/plain": [
              "nametype  fall \n",
              "Valid     Found    0.974145\n",
              "          Fell     0.024215\n",
              "Relict    Found    0.001641\n",
              "Name: proportion, dtype: float64"
            ]
          },
          "execution_count": 25,
          "metadata": {},
          "output_type": "execute_result"
        }
      ],
      "source": [
        "meteorites.value_counts(subset=['nametype', 'fall'], normalize=True)"
      ]
    },
    {
      "cell_type": "markdown",
      "id": "ef8f5c35-57e4-4347-845e-39fa4de28075",
      "metadata": {
        "editable": true,
        "tags": [],
        "id": "ef8f5c35-57e4-4347-845e-39fa4de28075"
      },
      "source": [
        "#### What was the mass of the average meterorite?"
      ]
    },
    {
      "cell_type": "code",
      "execution_count": null,
      "id": "b998653e-02dd-4540-ba66-dbc4b458b558",
      "metadata": {
        "editable": true,
        "tags": [],
        "id": "b998653e-02dd-4540-ba66-dbc4b458b558",
        "outputId": "cd0951e2-eae5-4d80-d689-9f519c8829ac"
      },
      "outputs": [
        {
          "data": {
            "text/plain": [
              "np.float64(13278.078548601512)"
            ]
          },
          "execution_count": 26,
          "metadata": {},
          "output_type": "execute_result"
        }
      ],
      "source": [
        "meteorites['mass (g)'].mean()"
      ]
    },
    {
      "cell_type": "markdown",
      "id": "a398ecbe-10cc-4498-a7f1-91ea0bc736d2",
      "metadata": {
        "editable": true,
        "tags": [],
        "id": "a398ecbe-10cc-4498-a7f1-91ea0bc736d2"
      },
      "source": [
        "**Important**: The mean isn't always the best measure of central tendency. If there are outliers in the distribution, the mean will be skewed. Here, the mean is being pulled higher by some very heavy meteorites &ndash; the distribution is [right-skewed](https://www.analyticsvidhya.com/blog/2020/07/what-is-skewness-statistics/)."
      ]
    },
    {
      "cell_type": "markdown",
      "id": "7b0162c6-f48f-4687-9902-72325ebecc0d",
      "metadata": {
        "editable": true,
        "tags": [],
        "id": "7b0162c6-f48f-4687-9902-72325ebecc0d"
      },
      "source": [
        "Taking a look at some quantiles at the extremes of the distribution shows that the mean is between the 95th and 99th percentile of the distribution, so it isn't a good measure of central tendency here:"
      ]
    },
    {
      "cell_type": "code",
      "execution_count": null,
      "id": "b7379492-da17-4358-b357-2ae6e1a26e67",
      "metadata": {
        "editable": true,
        "tags": [],
        "id": "b7379492-da17-4358-b357-2ae6e1a26e67",
        "outputId": "5e04e64b-d432-4936-c484-c3a714257e58"
      },
      "outputs": [
        {
          "data": {
            "text/plain": [
              "0.01        0.44\n",
              "0.05        1.10\n",
              "0.50       32.60\n",
              "0.95     4000.00\n",
              "0.99    50600.00\n",
              "Name: mass (g), dtype: float64"
            ]
          },
          "execution_count": 27,
          "metadata": {},
          "output_type": "execute_result"
        }
      ],
      "source": [
        "meteorites['mass (g)'].quantile([0.01, 0.05, 0.5, 0.95, 0.99])"
      ]
    },
    {
      "cell_type": "markdown",
      "id": "2ca1c739-cf2b-4000-bedb-b66a3d11f071",
      "metadata": {
        "editable": true,
        "tags": [],
        "id": "2ca1c739-cf2b-4000-bedb-b66a3d11f071"
      },
      "source": [
        "A better measure in this case is the median (50th percentile), since it is robust to outliers:"
      ]
    },
    {
      "cell_type": "code",
      "execution_count": null,
      "id": "bc2e62f3-899d-4a50-a2f4-8b2e73e1bc2f",
      "metadata": {
        "editable": true,
        "tags": [],
        "id": "bc2e62f3-899d-4a50-a2f4-8b2e73e1bc2f",
        "outputId": "aadb4dd4-d4a4-4ff3-996c-c9b0bd725031"
      },
      "outputs": [
        {
          "data": {
            "text/plain": [
              "np.float64(32.6)"
            ]
          },
          "execution_count": 28,
          "metadata": {},
          "output_type": "execute_result"
        }
      ],
      "source": [
        "meteorites['mass (g)'].median()"
      ]
    },
    {
      "cell_type": "markdown",
      "id": "eebd8f14-f25b-453e-8d74-6e4b4d57aea2",
      "metadata": {
        "editable": true,
        "tags": [],
        "id": "eebd8f14-f25b-453e-8d74-6e4b4d57aea2"
      },
      "source": [
        "#### What was the mass of the heaviest meteorite?"
      ]
    },
    {
      "cell_type": "code",
      "execution_count": null,
      "id": "585af605-e601-49b6-bd1f-4838ab993302",
      "metadata": {
        "editable": true,
        "tags": [],
        "id": "585af605-e601-49b6-bd1f-4838ab993302",
        "outputId": "2bee5cff-f61e-4e7d-9bef-89ebe5155c25"
      },
      "outputs": [
        {
          "data": {
            "text/plain": [
              "np.float64(60000000.0)"
            ]
          },
          "execution_count": 29,
          "metadata": {},
          "output_type": "execute_result"
        }
      ],
      "source": [
        "meteorites['mass (g)'].max()"
      ]
    },
    {
      "cell_type": "markdown",
      "id": "6cb28eaf-0850-48f6-87c9-db3d8327e759",
      "metadata": {
        "editable": true,
        "tags": [],
        "id": "6cb28eaf-0850-48f6-87c9-db3d8327e759"
      },
      "source": [
        "Let's extract the information on this meteorite:"
      ]
    },
    {
      "cell_type": "code",
      "execution_count": null,
      "id": "29720ccc-3855-42f7-a0d0-e41a83cf1bef",
      "metadata": {
        "editable": true,
        "tags": [],
        "id": "29720ccc-3855-42f7-a0d0-e41a83cf1bef",
        "outputId": "edc109c6-7cb1-40b9-972f-d8ea424cb539"
      },
      "outputs": [
        {
          "data": {
            "text/plain": [
              "name                             Hoba\n",
              "id                              11890\n",
              "nametype                        Valid\n",
              "recclass                    Iron, IVB\n",
              "mass (g)                   60000000.0\n",
              "fall                            Found\n",
              "year           01/01/1920 12:00:00 AM\n",
              "reclat                      -19.58333\n",
              "reclong                      17.91667\n",
              "GeoLocation     (-19.58333, 17.91667)\n",
              "Name: 16392, dtype: object"
            ]
          },
          "execution_count": 30,
          "metadata": {},
          "output_type": "execute_result"
        }
      ],
      "source": [
        "meteorites.loc[meteorites['mass (g)'].idxmax()]"
      ]
    },
    {
      "cell_type": "markdown",
      "id": "f2deea52-a1f9-4b5f-80bb-5074862783ec",
      "metadata": {
        "editable": true,
        "tags": [],
        "id": "f2deea52-a1f9-4b5f-80bb-5074862783ec"
      },
      "source": [
        "#### How many different types of meteorite classes are represented in this dataset?"
      ]
    },
    {
      "cell_type": "code",
      "execution_count": null,
      "id": "79c2a1db-0eeb-4173-964a-a38741c059ba",
      "metadata": {
        "editable": true,
        "tags": [],
        "id": "79c2a1db-0eeb-4173-964a-a38741c059ba",
        "outputId": "48dc730a-4d3f-44fc-df92-3a9e7cee8674"
      },
      "outputs": [
        {
          "data": {
            "text/plain": [
              "466"
            ]
          },
          "execution_count": 31,
          "metadata": {},
          "output_type": "execute_result"
        }
      ],
      "source": [
        "meteorites.recclass.nunique()"
      ]
    },
    {
      "cell_type": "markdown",
      "id": "0c0929d1-d296-4e11-89fb-7f3e707be732",
      "metadata": {
        "editable": true,
        "tags": [],
        "id": "0c0929d1-d296-4e11-89fb-7f3e707be732"
      },
      "source": [
        "Some examples:"
      ]
    },
    {
      "cell_type": "code",
      "execution_count": null,
      "id": "3ac57de5-7734-478a-9772-feb82890d5ef",
      "metadata": {
        "editable": true,
        "tags": [],
        "id": "3ac57de5-7734-478a-9772-feb82890d5ef",
        "outputId": "5716e078-7f45-4675-8427-ac9e66134873"
      },
      "outputs": [
        {
          "data": {
            "text/plain": [
              "array(['L5', 'H6', 'EH4', 'Acapulcoite', 'L6', 'LL3-6', 'H5', 'L',\n",
              "       'Diogenite-pm', 'Unknown', 'H4', 'H', 'Iron, IVA', 'CR2-an'],\n",
              "      dtype=object)"
            ]
          },
          "execution_count": 32,
          "metadata": {},
          "output_type": "execute_result"
        }
      ],
      "source": [
        "meteorites.recclass.unique()[:14]"
      ]
    },
    {
      "cell_type": "markdown",
      "id": "1e0eecb1-a224-44b4-bde2-79d794a7eca8",
      "metadata": {
        "editable": true,
        "tags": [],
        "id": "1e0eecb1-a224-44b4-bde2-79d794a7eca8"
      },
      "source": [
        "*Note: All fields preceded with \"rec\" are the values recommended by The Meteoritical Society. Check out [this Wikipedia article](https://en.wikipedia.org/wiki/Meteorite_classification) for some information on meteorite classes.*"
      ]
    },
    {
      "cell_type": "markdown",
      "id": "a0755e36-3761-4eb1-a91d-0d6abe9e672f",
      "metadata": {
        "editable": true,
        "tags": [],
        "id": "a0755e36-3761-4eb1-a91d-0d6abe9e672f"
      },
      "source": [
        "#### Get some summary statistics on the data itself\n",
        "We can get common summary statistics for all columns at once. By default, this will only be numeric columns, but here, we will summarize everything together:"
      ]
    },
    {
      "cell_type": "code",
      "execution_count": null,
      "id": "f0297d45-1d86-411f-ad8e-74cfaa3b2389",
      "metadata": {
        "editable": true,
        "tags": [],
        "id": "f0297d45-1d86-411f-ad8e-74cfaa3b2389",
        "outputId": "68a1c940-3d8e-4044-aebe-fefbf53b5574"
      },
      "outputs": [
        {
          "data": {
            "text/html": [
              "<div>\n",
              "<style scoped>\n",
              "    .dataframe tbody tr th:only-of-type {\n",
              "        vertical-align: middle;\n",
              "    }\n",
              "\n",
              "    .dataframe tbody tr th {\n",
              "        vertical-align: top;\n",
              "    }\n",
              "\n",
              "    .dataframe thead th {\n",
              "        text-align: right;\n",
              "    }\n",
              "</style>\n",
              "<table border=\"1\" class=\"dataframe\">\n",
              "  <thead>\n",
              "    <tr style=\"text-align: right;\">\n",
              "      <th></th>\n",
              "      <th>name</th>\n",
              "      <th>id</th>\n",
              "      <th>nametype</th>\n",
              "      <th>recclass</th>\n",
              "      <th>mass (g)</th>\n",
              "      <th>fall</th>\n",
              "      <th>year</th>\n",
              "      <th>reclat</th>\n",
              "      <th>reclong</th>\n",
              "      <th>GeoLocation</th>\n",
              "    </tr>\n",
              "  </thead>\n",
              "  <tbody>\n",
              "    <tr>\n",
              "      <th>count</th>\n",
              "      <td>45716</td>\n",
              "      <td>45716.000000</td>\n",
              "      <td>45716</td>\n",
              "      <td>45716</td>\n",
              "      <td>4.558500e+04</td>\n",
              "      <td>45716</td>\n",
              "      <td>45425</td>\n",
              "      <td>38401.000000</td>\n",
              "      <td>38401.000000</td>\n",
              "      <td>38401</td>\n",
              "    </tr>\n",
              "    <tr>\n",
              "      <th>unique</th>\n",
              "      <td>45716</td>\n",
              "      <td>NaN</td>\n",
              "      <td>2</td>\n",
              "      <td>466</td>\n",
              "      <td>NaN</td>\n",
              "      <td>2</td>\n",
              "      <td>266</td>\n",
              "      <td>NaN</td>\n",
              "      <td>NaN</td>\n",
              "      <td>17100</td>\n",
              "    </tr>\n",
              "    <tr>\n",
              "      <th>top</th>\n",
              "      <td>Aachen</td>\n",
              "      <td>NaN</td>\n",
              "      <td>Valid</td>\n",
              "      <td>L6</td>\n",
              "      <td>NaN</td>\n",
              "      <td>Found</td>\n",
              "      <td>01/01/2003 12:00:00 AM</td>\n",
              "      <td>NaN</td>\n",
              "      <td>NaN</td>\n",
              "      <td>(0.0, 0.0)</td>\n",
              "    </tr>\n",
              "    <tr>\n",
              "      <th>freq</th>\n",
              "      <td>1</td>\n",
              "      <td>NaN</td>\n",
              "      <td>45641</td>\n",
              "      <td>8285</td>\n",
              "      <td>NaN</td>\n",
              "      <td>44609</td>\n",
              "      <td>3323</td>\n",
              "      <td>NaN</td>\n",
              "      <td>NaN</td>\n",
              "      <td>6214</td>\n",
              "    </tr>\n",
              "    <tr>\n",
              "      <th>mean</th>\n",
              "      <td>NaN</td>\n",
              "      <td>26889.735104</td>\n",
              "      <td>NaN</td>\n",
              "      <td>NaN</td>\n",
              "      <td>1.327808e+04</td>\n",
              "      <td>NaN</td>\n",
              "      <td>NaN</td>\n",
              "      <td>-39.122580</td>\n",
              "      <td>61.074319</td>\n",
              "      <td>NaN</td>\n",
              "    </tr>\n",
              "    <tr>\n",
              "      <th>std</th>\n",
              "      <td>NaN</td>\n",
              "      <td>16860.683030</td>\n",
              "      <td>NaN</td>\n",
              "      <td>NaN</td>\n",
              "      <td>5.749889e+05</td>\n",
              "      <td>NaN</td>\n",
              "      <td>NaN</td>\n",
              "      <td>46.378511</td>\n",
              "      <td>80.647298</td>\n",
              "      <td>NaN</td>\n",
              "    </tr>\n",
              "    <tr>\n",
              "      <th>min</th>\n",
              "      <td>NaN</td>\n",
              "      <td>1.000000</td>\n",
              "      <td>NaN</td>\n",
              "      <td>NaN</td>\n",
              "      <td>0.000000e+00</td>\n",
              "      <td>NaN</td>\n",
              "      <td>NaN</td>\n",
              "      <td>-87.366670</td>\n",
              "      <td>-165.433330</td>\n",
              "      <td>NaN</td>\n",
              "    </tr>\n",
              "    <tr>\n",
              "      <th>25%</th>\n",
              "      <td>NaN</td>\n",
              "      <td>12688.750000</td>\n",
              "      <td>NaN</td>\n",
              "      <td>NaN</td>\n",
              "      <td>7.200000e+00</td>\n",
              "      <td>NaN</td>\n",
              "      <td>NaN</td>\n",
              "      <td>-76.714240</td>\n",
              "      <td>0.000000</td>\n",
              "      <td>NaN</td>\n",
              "    </tr>\n",
              "    <tr>\n",
              "      <th>50%</th>\n",
              "      <td>NaN</td>\n",
              "      <td>24261.500000</td>\n",
              "      <td>NaN</td>\n",
              "      <td>NaN</td>\n",
              "      <td>3.260000e+01</td>\n",
              "      <td>NaN</td>\n",
              "      <td>NaN</td>\n",
              "      <td>-71.500000</td>\n",
              "      <td>35.666670</td>\n",
              "      <td>NaN</td>\n",
              "    </tr>\n",
              "    <tr>\n",
              "      <th>75%</th>\n",
              "      <td>NaN</td>\n",
              "      <td>40656.750000</td>\n",
              "      <td>NaN</td>\n",
              "      <td>NaN</td>\n",
              "      <td>2.026000e+02</td>\n",
              "      <td>NaN</td>\n",
              "      <td>NaN</td>\n",
              "      <td>0.000000</td>\n",
              "      <td>157.166670</td>\n",
              "      <td>NaN</td>\n",
              "    </tr>\n",
              "    <tr>\n",
              "      <th>max</th>\n",
              "      <td>NaN</td>\n",
              "      <td>57458.000000</td>\n",
              "      <td>NaN</td>\n",
              "      <td>NaN</td>\n",
              "      <td>6.000000e+07</td>\n",
              "      <td>NaN</td>\n",
              "      <td>NaN</td>\n",
              "      <td>81.166670</td>\n",
              "      <td>354.473330</td>\n",
              "      <td>NaN</td>\n",
              "    </tr>\n",
              "  </tbody>\n",
              "</table>\n",
              "</div>"
            ],
            "text/plain": [
              "          name            id nametype recclass      mass (g)   fall  \\\n",
              "count    45716  45716.000000    45716    45716  4.558500e+04  45716   \n",
              "unique   45716           NaN        2      466           NaN      2   \n",
              "top     Aachen           NaN    Valid       L6           NaN  Found   \n",
              "freq         1           NaN    45641     8285           NaN  44609   \n",
              "mean       NaN  26889.735104      NaN      NaN  1.327808e+04    NaN   \n",
              "std        NaN  16860.683030      NaN      NaN  5.749889e+05    NaN   \n",
              "min        NaN      1.000000      NaN      NaN  0.000000e+00    NaN   \n",
              "25%        NaN  12688.750000      NaN      NaN  7.200000e+00    NaN   \n",
              "50%        NaN  24261.500000      NaN      NaN  3.260000e+01    NaN   \n",
              "75%        NaN  40656.750000      NaN      NaN  2.026000e+02    NaN   \n",
              "max        NaN  57458.000000      NaN      NaN  6.000000e+07    NaN   \n",
              "\n",
              "                          year        reclat       reclong GeoLocation  \n",
              "count                    45425  38401.000000  38401.000000       38401  \n",
              "unique                     266           NaN           NaN       17100  \n",
              "top     01/01/2003 12:00:00 AM           NaN           NaN  (0.0, 0.0)  \n",
              "freq                      3323           NaN           NaN        6214  \n",
              "mean                       NaN    -39.122580     61.074319         NaN  \n",
              "std                        NaN     46.378511     80.647298         NaN  \n",
              "min                        NaN    -87.366670   -165.433330         NaN  \n",
              "25%                        NaN    -76.714240      0.000000         NaN  \n",
              "50%                        NaN    -71.500000     35.666670         NaN  \n",
              "75%                        NaN      0.000000    157.166670         NaN  \n",
              "max                        NaN     81.166670    354.473330         NaN  "
            ]
          },
          "execution_count": 33,
          "metadata": {},
          "output_type": "execute_result"
        }
      ],
      "source": [
        "meteorites.describe(include='all')"
      ]
    },
    {
      "cell_type": "markdown",
      "id": "96e7cd90-e515-4068-ae66-f4d2bcab6712",
      "metadata": {
        "editable": true,
        "tags": [],
        "id": "96e7cd90-e515-4068-ae66-f4d2bcab6712"
      },
      "source": [
        "**Important**: `NaN` values signify missing data. For instance, the `fall` column contains strings, so there is no value for `mean`; likewise, `mass (g)` is numeric, so we don't have entries for the categorical summary statistics (`unique`, `top`, `freq`)."
      ]
    },
    {
      "cell_type": "markdown",
      "id": "7b290818-09d8-4646-94e3-b14f88d25b43",
      "metadata": {
        "editable": true,
        "tags": [],
        "id": "7b290818-09d8-4646-94e3-b14f88d25b43"
      },
      "source": [
        "#### Check out the documentation for more descriptive statistics:\n",
        "\n",
        "- [Series](https://pandas.pydata.org/docs/reference/series.html#computations-descriptive-stats)\n",
        "- [DataFrame](https://pandas.pydata.org/docs/reference/frame.html#computations-descriptive-stats)"
      ]
    },
    {
      "cell_type": "markdown",
      "id": "5f26b130-6bc5-47ca-81f2-b977cfd8ef85",
      "metadata": {
        "editable": true,
        "tags": [],
        "id": "5f26b130-6bc5-47ca-81f2-b977cfd8ef85"
      },
      "source": [
        "### [Exercise 1.3](./workbook.ipynb#Exercise-1.3)\n",
        "\n",
        "##### Using the data in the `2019_Yellow_Taxi_Trip_Data.csv` file, calculate summary statistics for the `fare_amount`, `tip_amount`, `tolls_amount`, and `total_amount` columns."
      ]
    },
    {
      "cell_type": "code",
      "execution_count": null,
      "id": "876cafcb-00ab-4f5a-8b3c-bfead4f0b14c",
      "metadata": {
        "editable": true,
        "tags": [],
        "id": "876cafcb-00ab-4f5a-8b3c-bfead4f0b14c"
      },
      "outputs": [],
      "source": [
        "# Complete this exercise in the workbook.ipynb file\n",
        "# Click on `Exercise 1.3` above to open the workbook.ipynb file"
      ]
    },
    {
      "cell_type": "markdown",
      "id": "19fa9e6a-d1e5-4202-ba94-6fa5c8bbe5f7",
      "metadata": {
        "editable": true,
        "tags": [],
        "id": "19fa9e6a-d1e5-4202-ba94-6fa5c8bbe5f7"
      },
      "source": [
        "### [Exercise 1.4](./workbook.ipynb#Exercise-1.4)\n",
        "\n",
        "##### Isolate the `fare_amount`, `tip_amount`, `tolls_amount`, and `total_amount` for the longest trip by distance (`trip_distance`)."
      ]
    },
    {
      "cell_type": "code",
      "execution_count": null,
      "id": "6402bb24-3da9-48e5-bde1-0b8a9576f00d",
      "metadata": {
        "editable": true,
        "tags": [],
        "id": "6402bb24-3da9-48e5-bde1-0b8a9576f00d"
      },
      "outputs": [],
      "source": [
        "# Complete this exercise in the workbook.ipynb file\n",
        "# Click on `Exercise 1.4` above to open the workbook.ipynb file"
      ]
    },
    {
      "cell_type": "markdown",
      "id": "68c8ccd0-3a3d-4fab-86c1-fd5a136f0540",
      "metadata": {
        "editable": true,
        "tags": [],
        "id": "68c8ccd0-3a3d-4fab-86c1-fd5a136f0540"
      },
      "source": [
        "## Up Next: [Data Wrangling](./2-data_wrangling.ipynb)"
      ]
    }
  ],
  "metadata": {
    "kernelspec": {
      "display_name": "Python 3 (ipykernel)",
      "language": "python",
      "name": "python3"
    },
    "language_info": {
      "codemirror_mode": {
        "name": "ipython",
        "version": 3
      },
      "file_extension": ".py",
      "mimetype": "text/x-python",
      "name": "python",
      "nbconvert_exporter": "python",
      "pygments_lexer": "ipython3",
      "version": "3.12.4"
    },
    "colab": {
      "provenance": []
    }
  },
  "nbformat": 4,
  "nbformat_minor": 5
}